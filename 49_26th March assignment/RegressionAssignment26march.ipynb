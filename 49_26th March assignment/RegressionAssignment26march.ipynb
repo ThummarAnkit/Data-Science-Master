{
 "cells": [
  {
   "cell_type": "markdown",
   "id": "603e2215",
   "metadata": {},
   "source": [
    "#### Q1. Explain the difference between simple linear regression and multiple linear regression. Provide an example of each."
   ]
  },
  {
   "cell_type": "markdown",
   "id": "8f2c0d4c",
   "metadata": {},
   "source": [
    "|Simple Linear Regression|Multiple Linear Regression|\n",
    "| --- | --- |\n",
    "|Simple Linear Regression is a type of Regression algorithms that models the relationship between a dependent variable and a single independent variable|Multiple Linear Regression is one of the important regression algorithms which models the linear relationship between a single dependent continuous variable and more than one independent variable.|\n",
    "|One regression coefficient|One coefficient regression for each independent features|\n",
    "|example:  simple linear regression can be used to predict the weight of a person based on their height. Here, height is the independent variable and weight is the dependent variable|example: multiple linear regression can be used to predict the sales of a product based on several independent variables, such as price, advertising expenditure, and customer demographics|"
   ]
  },
  {
   "cell_type": "markdown",
   "id": "0d521317",
   "metadata": {},
   "source": [
    "#### Q2. Discuss the assumptions of linear regression. How can you check whether these assumptions hold in a given dataset?"
   ]
  },
  {
   "cell_type": "markdown",
   "id": "c62de6b2",
   "metadata": {},
   "source": [
    "Linear regression is a statistical method that involves estimating the relationship between a dependent variable and one independent variables. To apply linear regression, certain assumptions need to be met. These assumptions are:\n",
    "\n",
    "- first we will check whether the dataset follow linearity or not.\n",
    "- Normality should be there.\n",
    "- no multicollinearity.\n",
    "- Residual plots."
   ]
  },
  {
   "cell_type": "markdown",
   "id": "94377110",
   "metadata": {},
   "source": [
    "#### Q3. How do you interpret the slope and intercept in a linear regression model? Provide an example using a real-world scenario."
   ]
  },
  {
   "cell_type": "markdown",
   "id": "4a774f8e",
   "metadata": {},
   "source": [
    "In linear regression slope and intercept represent the linear relationship between independent and dependent feature.\n",
    "The intercept represents the value of the dependent variable when all independent variables are zero, while the slope represents the change in the dependent variable for a one-unit change in the independent variable.\n",
    "\n",
    "For example, consider a linear regression model that predicts the salary of an individual based on their years of education. In this case, the intercept would represent the starting salary for someone with no years of education, which may not make sense in this context. A better interpretation would be to consider the slope coefficient, which represents the expected change in salary for every additional year of education. If the slope coefficient is 5, for example, it means that the expected increase in salary is $5,000 for every additional year of education."
   ]
  },
  {
   "cell_type": "markdown",
   "id": "23f11f20",
   "metadata": {},
   "source": [
    "#### Q4. Explain the concept of gradient descent. How is it used in machine learning?"
   ]
  },
  {
   "cell_type": "markdown",
   "id": "476cc022",
   "metadata": {},
   "source": [
    "Gradient descent is a optimization algorithm which is used in machine learning to minimize the error function.\n",
    "gradient descent is an optimization algorithm that iteratively adjusts the model parameters in the direction of the steepest descent of the error function, with the goal of finding the minimum of the error function. It is a widely used algorithm in machine learning for training models to make better predictions on new data.\n",
    "and also helps us to reach global minima where we will get minimal error with high accuracy."
   ]
  },
  {
   "cell_type": "markdown",
   "id": "d9768d6e",
   "metadata": {},
   "source": [
    "#### Q5. Describe the multiple linear regression model. How does it differ from simple linear regression?"
   ]
  },
  {
   "cell_type": "markdown",
   "id": "641557ff",
   "metadata": {},
   "source": [
    "Multiple Linear Regression is one of the important regression algorithms which models the linear relationship between a single dependent continuous variable and more than one independent variable.\n",
    "\n",
    "example:  multiple linear regression can be used to predict the sales of a product based on several independent variables, such as price, advertising expenditure, and customer demographics\n",
    "\n",
    "it is different than simple linear regression beacause in this the dataset has more than one or two independent features and one dependent features."
   ]
  },
  {
   "cell_type": "markdown",
   "id": "09b945b8",
   "metadata": {},
   "source": [
    "#### Q6. Explain the concept of multicollinearity in multiple linear regression. How can you detect and address this issue?"
   ]
  },
  {
   "cell_type": "markdown",
   "id": "65c0d26d",
   "metadata": {},
   "source": [
    "Multicollinearity is common problem whic occurs when the dataset has more than one or two independent features and highly correlated with each others.\n",
    "This can lead to unreliable estimates of the regression coefficients, making it difficult to interpret the relationship between the independent variables and the dependent variable.\n",
    "\n",
    "To detect multicollinearity, one approach is to compute the correlation matrix of the independent variables. If the correlation coefficient between two independent variables is close to 1 or -1, this indicates that the variables are highly correlated."
   ]
  },
  {
   "cell_type": "markdown",
   "id": "1d7a3448",
   "metadata": {},
   "source": [
    "#### Q7. Describe the polynomial regression model. How is it different from linear regression?"
   ]
  },
  {
   "cell_type": "markdown",
   "id": "9be671ee",
   "metadata": {},
   "source": [
    "Polynomial mean non-linear relationship between two independent and dependent variable.\n",
    "One of the main differences between linear regression and polynomial regression is the shape of the relationship between the variables. Linear regression assumes that the relationship between x and y is a straight line, whereas polynomial regression can model more complex, curved relationships.\n"
   ]
  },
  {
   "cell_type": "markdown",
   "id": "24b07dcf",
   "metadata": {},
   "source": [
    "#### Q8. What are the advantages and disadvantages of polynomial regression compared to linear regression? In what situations would you prefer to use polynomial regression?"
   ]
  },
  {
   "cell_type": "markdown",
   "id": "911d56fa",
   "metadata": {},
   "source": [
    "##### Advantages:\n",
    "- Can model non-linear relationship\n",
    "- More flexible\n",
    "- Can improve accuracy\n",
    "##### Disadvantages:\n",
    "- Overfitting\n",
    "- Complexity\n",
    "- Extrapolation\n",
    "\n",
    "\n",
    "In situations where the relationship between the variables is non-linear, polynomial regression may be preferred over linear regression. This includes cases where there are curvature or turning points in the relationship between the variables. However, care must be taken to avoid overfitting, and the degree of the polynomial should be chosen carefully based on the data and the complexity of the model. Additionally, if the relationship between the variables is truly linear, linear regression may be more appropriate and easier to interpret."
   ]
  }
 ],
 "metadata": {
  "kernelspec": {
   "display_name": "Python 3 (ipykernel)",
   "language": "python",
   "name": "python3"
  },
  "language_info": {
   "codemirror_mode": {
    "name": "ipython",
    "version": 3
   },
   "file_extension": ".py",
   "mimetype": "text/x-python",
   "name": "python",
   "nbconvert_exporter": "python",
   "pygments_lexer": "ipython3",
   "version": "3.11.2"
  }
 },
 "nbformat": 4,
 "nbformat_minor": 5
}
