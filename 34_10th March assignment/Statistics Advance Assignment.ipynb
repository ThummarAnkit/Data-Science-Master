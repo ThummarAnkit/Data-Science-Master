{
 "cells": [
  {
   "cell_type": "markdown",
   "id": "2181dcd1",
   "metadata": {},
   "source": [
    "# Q1: What is Estimation Statistics? Explain point estimate and interval estimate.\n",
    "\n",
    "__Ans. :__<br>\n",
    "\n",
    "__Estimation statistics__ is a branch of statistics that deals with the process of estimating an unknown population parameter based on sample data. In other words, estimation statistics allows us to make inferences about a population based on a sample of data.\n",
    "\n",
    "There are two types of estimation in statistics: __point estimation and interval estimation.__\n",
    "\n",
    "__Point estimate__ refers to a single value that is used to estimate an unknown population parameter. For example, if we want to estimate the mean height of all adults in a country, we can take a sample of adults and use the sample mean as a point estimate of the population mean.\n",
    "\n",
    "__Interval estimate,__ on the other hand, provides a range of values within which the unknown population parameter is likely to lie. Interval estimates are typically reported with a certain level of confidence, which represents the probability that the true population parameter falls within the interval estimate. For example, if we want to estimate the average salary of all employees in a company, we can take a sample and calculate a confidence interval for the population mean salary.\n",
    "\n",
    "__Interval estimates__ are typically more informative than point estimates because they provide a range of plausible values for the population parameter, rather than just a single value. However, interval estimates are also more complex to calculate and interpret than point estimates."
   ]
  },
  {
   "cell_type": "markdown",
   "id": "6da74999",
   "metadata": {},
   "source": [
    "# Q2. Write a Python function to estimate the population mean using a sample mean and standard deviation."
   ]
  },
  {
   "cell_type": "code",
   "execution_count": 1,
   "id": "da3fd036",
   "metadata": {},
   "outputs": [
    {
     "name": "stdout",
     "output_type": "stream",
     "text": [
      "Estimated population mean: 10.30\n"
     ]
    }
   ],
   "source": [
    "def estimate_pop_mean(sample_mean, sample_std, sample_size):\n",
    "    \"\"\"\n",
    "    Function to estimate the population mean using a sample mean and standard deviation.\n",
    "    \n",
    "    Args:\n",
    "    sample_mean (float): the mean of the sample\n",
    "    sample_std (float): the standard deviation of the sample\n",
    "    sample_size (int): the size of the sample\n",
    "    \n",
    "    Returns:\n",
    "    float: the estimated population mean\n",
    "    \"\"\"\n",
    "    import math\n",
    "    # Calculate the standard error of the mean using the sample standard deviation and sample size\n",
    "    std_error_mean = sample_std / math.sqrt(sample_size)\n",
    "    # Calculate the margin of error using a t-distribution and a 95% confidence level\n",
    "    t_value = 1.96  # for 95% confidence level\n",
    "    margin_of_error = t_value * std_error_mean\n",
    "    # Calculate the lower and upper bounds of the confidence interval\n",
    "    lower_bound = sample_mean - margin_of_error\n",
    "    upper_bound = sample_mean + margin_of_error\n",
    "    # Return the estimated population mean\n",
    "    return (lower_bound + upper_bound) / 2\n",
    "\n",
    "sample_mean = 10.3\n",
    "sample_std = 1.8\n",
    "sample_size = 50\n",
    "\n",
    "estimated_pop_mean = estimate_pop_mean(sample_mean, sample_std, sample_size)\n",
    "\n",
    "print(f\"Estimated population mean: {estimated_pop_mean:.2f}\")"
   ]
  },
  {
   "cell_type": "markdown",
   "id": "d8a3650d",
   "metadata": {},
   "source": [
    "# Q3: What is Hypothesis testing? Why is it used? State the importance of Hypothesis testing.\n",
    "\n",
    "__Ans. :__<br>\n",
    "\n",
    "__Hypothesis testing is__ a statistical method that is used to make decisions about a population based on a sample of data. In hypothesis testing, we start with a null hypothesis (H0) that represents the status quo or the assumption we are testing. We then collect data and use statistical tests to determine whether the evidence supports or rejects the null hypothesis. If the evidence strongly supports the null hypothesis, we do not reject it. If the evidence does not support the null hypothesis, we reject it in favor of an alternative hypothesis (Ha).\n",
    "\n",
    "__Hypothesis testing is used__ to determine whether a hypothesis about a population parameter is supported by sample data. For example, if we want to test whether a new drug is effective in treating a disease, we can use hypothesis testing to determine whether the data supports the hypothesis that the drug is effective (Ha) or whether we should stick with the null hypothesis that the drug is not effective (H0).\n",
    "\n",
    "The __importance of hypothesis testing__ lies in its ability to make objective decisions based on empirical evidence. Without hypothesis testing, we would have no way to determine whether our assumptions about a population are accurate or not. Hypothesis testing also allows us to quantify the strength of the evidence in favor of or against a hypothesis, which can help us make more informed decisions."
   ]
  },
  {
   "cell_type": "markdown",
   "id": "4f954c73",
   "metadata": {},
   "source": [
    "# Q4. Create a hypothesis that states whether the average weight of male college students is greater than the average weight of female college students.\n",
    "\n",
    "__Ans. :__<br>\n",
    "\n",
    "__Null Hypothesis (H0):__ The average weight of male college students is equal to or less than the average weight of female college students.\n",
    "\n",
    "__Alternative Hypothesis (Ha):__ The average weight of male college students is greater than the average weight of female college students.\n",
    "\n",
    "Symbolically,\n",
    "\n",
    "__H0: μM ≤ μF__\n",
    "\n",
    "__Ha: μM > μF__\n",
    "\n",
    "Where __μM__ represents the population mean weight of male college students, and __μF__ represents the population mean weight of female college students.\n",
    "\n",
    "To test this hypothesis, we would need to collect a sample of weights from both male and female college students, and use a statistical test to determine whether the sample evidence supports or rejects the null hypothesis in favor of the alternative hypothesis. We could use a t-test to compare the means of the two groups and determine whether the difference is statistically significant."
   ]
  },
  {
   "cell_type": "markdown",
   "id": "b0c7013e",
   "metadata": {},
   "source": [
    "# Q5. Write a Python script to conduct a hypothesis test on the difference between two population means, given a sample from each population."
   ]
  },
  {
   "cell_type": "code",
   "execution_count": 2,
   "id": "d96aaf8a",
   "metadata": {},
   "outputs": [],
   "source": [
    "import numpy as np\n",
    "from scipy.stats import t\n",
    "\n",
    "def two_sample_t_test(sample1, sample2, alpha, tails=2):\n",
    "    \"\"\"\n",
    "    Function to conduct a two-sample t-test on the difference between two population means.\n",
    "    \n",
    "    Args:\n",
    "    sample1 (array-like): the first sample\n",
    "    sample2 (array-like): the second sample\n",
    "    alpha (float): the significance level\n",
    "    tails (int): the number of tails for the test (default is 2)\n",
    "    \n",
    "    Returns:\n",
    "    tuple: the test statistic, the p-value, and the decision (reject or fail to reject H0)\n",
    "    \"\"\"\n",
    "    # Calculate the sample means and standard deviations\n",
    "    n1 = len(sample1)\n",
    "    n2 = len(sample2)\n",
    "    x1 = np.mean(sample1)\n",
    "    x2 = np.mean(sample2)\n",
    "    s1 = np.std(sample1, ddof=1)\n",
    "    s2 = np.std(sample2, ddof=1)\n",
    "    \n",
    "    # Calculate the pooled standard deviation and the standard error of the difference\n",
    "    sp = np.sqrt(((n1-1)*s1**2 + (n2-1)*s2**2) / (n1+n2-2))\n",
    "    std_error_diff = sp * np.sqrt(1/n1 + 1/n2)\n",
    "    \n",
    "    # Calculate the test statistic\n",
    "    t_statistic = (x1 - x2) / std_error_diff\n",
    "    \n",
    "    # Calculate the p-value\n",
    "    if tails == 2:\n",
    "        p_value = 2 * (1 - t.cdf(abs(t_statistic), df=n1+n2-2))\n",
    "    elif tails == 1:\n",
    "        p_value = 1 - t.cdf(t_statistic, df=n1+n2-2)\n",
    "    \n",
    "    # Determine the decision\n",
    "    if p_value < alpha:\n",
    "        decision = \"Reject H0\"\n",
    "    else:\n",
    "        decision = \"Fail to reject H0\"\n",
    "    \n",
    "    # Return the test statistic, p-value, and decision\n",
    "    return t_statistic, p_value, decision"
   ]
  },
  {
   "cell_type": "code",
   "execution_count": 3,
   "id": "e8335f29",
   "metadata": {},
   "outputs": [
    {
     "name": "stdout",
     "output_type": "stream",
     "text": [
      "Test statistic: 9.57\n",
      "P-value: 0.0000\n",
      "Decision: Reject H0\n"
     ]
    }
   ],
   "source": [
    "# Generate two samples of weights (in pounds)\n",
    "np.random.seed(123)\n",
    "male_weights = np.random.normal(loc=175, scale=20, size=100)\n",
    "female_weights = np.random.normal(loc=150, scale=15, size=100)\n",
    "\n",
    "# Perform a two-sample t-test with a significance level of 0.05 and two tails\n",
    "t_stat, p_val, decision = two_sample_t_test(male_weights, female_weights, alpha=0.05, tails=2)\n",
    "\n",
    "print(f\"Test statistic: {t_stat:.2f}\")\n",
    "print(f\"P-value: {p_val:.4f}\")\n",
    "print(f\"Decision: {decision}\")"
   ]
  },
  {
   "cell_type": "markdown",
   "id": "2afb20e9",
   "metadata": {},
   "source": [
    "# Q6: What is a null and alternative hypothesis? Give some examples.\n",
    "\n",
    "In hypothesis testing, the __null hypothesis (H0) is__ a statement about a population parameter that is being tested, and the __alternative hypothesis (Ha) is__ a statement that contradicts the null hypothesis.\n",
    "\n",
    "The null hypothesis is the default assumption that there is no significant difference between a population parameter and a given value or between two population parameters. The alternative hypothesis is the statement that contradicts the null hypothesis and suggests that there is a significant difference between a population parameter and a given value or between two population parameters.\n",
    "\n",
    "Here are some examples of null and alternative hypotheses:\n",
    "\n",
    "1. __Null hypothesis:__ The average height of male students at a college is 70 inches.<br>\n",
    "   __Alternative hypothesis:__ The average height of male students at a college is not 70 inches.\n",
    "\n",
    "2. __Null hypothesis:__ The proportion of students who pass an exam is 0.60.<br>\n",
    "   __Alternative hypothesis:__ The proportion of students who pass an exam is not 0.60.\n",
    "\n",
    "3. __Null hypothesis:__ The mean weight of a product is less than or equal to 500 grams.<br>\n",
    "   __Alternative hypothesis:__ The mean weight of a product is greater than 500 grams.\n",
    "\n",
    "4. __Null hypothesis:__ There is no relationship between the age of a person and their income.<br>\n",
    "   __Alternative hypothesis:__ There is a relationship between the age of a person and their income.\n",
    "\n",
    "5. __Null hypothesis:__ The rate of customer complaints is 10% or less.<br>\n",
    "   __Alternative hypothesis:__ The rate of customer complaints is greater than 10%."
   ]
  },
  {
   "cell_type": "markdown",
   "id": "971d4049",
   "metadata": {},
   "source": [
    "# Q7: Write down the steps involved in hypothesis testing.\n",
    "\n",
    "__Ans. :__<br>\n",
    "\n",
    "Hypothesis testing is a statistical method used to determine whether a hypothesis is supported by the available evidence. The steps involved in hypothesis testing are:\n",
    "\n",
    "__1. Formulating the research hypothesis:__ The first step is to formulate a research hypothesis that will be tested. The research hypothesis should be based on a theory, prior research, or an observation.\n",
    "\n",
    "__2. Formulating the null hypothesis:__ The null hypothesis is the opposite of the research hypothesis. It assumes that there is no significant difference or relationship between the variables being studied.\n",
    "\n",
    "__3. Determining the level of significance:__ The level of significance is the probability of rejecting the null hypothesis when it is actually true. It is usually set at 0.05 (5%) or 0.01 (1%).\n",
    "\n",
    "__4. Selecting the appropriate statistical test:__ The appropriate statistical test is selected based on the type of data and the research hypothesis being tested. Common statistical tests include t-tests, ANOVA, correlation analysis, and regression analysis.\n",
    "\n",
    "__5. Collecting data:__ Data is collected from a sample of the population being studied. The sample should be selected randomly to ensure that it is representative of the population.\n",
    "\n",
    "__6. Calculating the test statistic:__ The test statistic is calculated based on the data collected from the sample. The test statistic measures the difference between the observed data and what would be expected if the null hypothesis were true.\n",
    "\n",
    "__7. Determining the p-value:__ The p-value is the probability of obtaining the observed test statistic or a more extreme test statistic, assuming that the null hypothesis is true. If the p-value is less than or equal to the level of significance, the null hypothesis is rejected.\n",
    "\n",
    "__8. Interpreting the results:__ The final step is to interpret the results of the hypothesis test. If the null hypothesis is rejected, it means that the research hypothesis is supported by the available evidence. If the null hypothesis is not rejected, it means that there is no significant difference or relationship between the variables being studied."
   ]
  },
  {
   "cell_type": "markdown",
   "id": "057e0611",
   "metadata": {},
   "source": [
    "# Q8. Define p-value and explain its significance in hypothesis testing.\n",
    "\n",
    "__Ans. :__<br>\n",
    "\n",
    "In hypothesis testing, the __p-value is__ the probability of obtaining a test statistic as extreme as or more extreme than the one observed, assuming that the null hypothesis is true. It is used to determine whether the observed data provides evidence against the null hypothesis.\n",
    "\n",
    "The __significance of the p-value__ in hypothesis testing is that it tells us the strength of the evidence against the null hypothesis. If the p-value is small (typically less than 0.05 or 0.01), it indicates that the observed data is unlikely to have occurred by chance alone if the null hypothesis were true. In other words, a small p-value suggests that there is strong evidence against the null hypothesis and that it should be rejected in favor of the alternative hypothesis."
   ]
  },
  {
   "cell_type": "markdown",
   "id": "565a9eee",
   "metadata": {},
   "source": [
    "# Q9. Generate a Student's t-distribution plot using Python's matplotlib library, with the degrees of freedom parameter set to 10."
   ]
  },
  {
   "cell_type": "code",
   "execution_count": 7,
   "id": "44b553d7",
   "metadata": {},
   "outputs": [
    {
     "data": {
      "image/png": "[encoded data removed]",
      "text/plain": [
       "<Figure size 432x288 with 1 Axes>"
      ]
     },
     "metadata": {
      "needs_background": "light"
     },
     "output_type": "display_data"
    }
   ],
   "source": [
    "import numpy as np\n",
    "import scipy\n",
    "import matplotlib.pyplot as plt\n",
    "\n",
    "df = 10  # Degrees of freedom\n",
    "\n",
    "x = np.linspace(-4, 4, 1000)  # Generate x-values\n",
    "y = scipy.stats.t.pdf(x, df)  # Generate y-values using t-distribution with 10 degrees of freedom\n",
    "\n",
    "plt.plot(x, y, label='t-distribution')  # Plot the t-distribution\n",
    "plt.title(\"Student's t-distribution with 10 degrees of freedom\")\n",
    "plt.legend()\n",
    "plt.show()"
   ]
  },
  {
   "cell_type": "markdown",
   "id": "549189bf",
   "metadata": {},
   "source": [
    "# Q10. Write a Python program to calculate the two-sample t-test for independent samples, given two random samples of equal size and a null hypothesis that the population means are equal."
   ]
  },
  {
   "cell_type": "code",
   "execution_count": 8,
   "id": "18d22af8",
   "metadata": {},
   "outputs": [
    {
     "name": "stdout",
     "output_type": "stream",
     "text": [
      "t-test statistic:  -5.343054150859085\n",
      "p-value:  5.946520011746512e-07\n"
     ]
    }
   ],
   "source": [
    "import numpy as np\n",
    "from scipy.stats import ttest_ind\n",
    "\n",
    "# Generate two random samples\n",
    "sample1 = np.random.normal(10, 2, 50)  # Mean of 10, standard deviation of 2, 50 samples\n",
    "sample2 = np.random.normal(12, 2, 50)  # Mean of 12, standard deviation of 2, 50 samples\n",
    "\n",
    "# Calculate the t-test statistic and p-value\n",
    "t_stat, p_value = ttest_ind(sample1, sample2)\n",
    "\n",
    "# Print the results\n",
    "print(\"t-test statistic: \", t_stat)\n",
    "print(\"p-value: \", p_value)"
   ]
  },
  {
   "cell_type": "markdown",
   "id": "e012330f",
   "metadata": {},
   "source": [
    "# Q11: What is Student’s t distribution? When to use the t-Distribution.\n",
    "\n",
    "__Ans. __<br>\n",
    "\n",
    "__Student's t-distribution is__ a probability distribution that is used in hypothesis testing when the sample size is small (usually less than 30) and the population standard deviation is unknown. The t-distribution is similar to the normal distribution, but it has heavier tails, meaning that it assigns more probability to extreme values.\n",
    "\n",
    "The t-distribution is used in a variety of applications, including:\n",
    "\n",
    "__1. Hypothesis testing for population mean:__ When the population standard deviation is unknown, we can use the t-distribution to test hypotheses about the population mean based on a small sample from the population.\n",
    "\n",
    "__2. Confidence intervals for population mean:__ The t-distribution is used to construct confidence intervals for the population mean when the sample size is small and the population standard deviation is unknown.\n",
    "\n",
    "__3. Linear regression:__ The t-distribution is used to test hypotheses about the regression coefficients in linear regression models.\n",
    "\n",
    "__4. ANOVA:__ The t-distribution is used in analysis of variance (ANOVA) to test hypotheses about the means of multiple populations."
   ]
  },
  {
   "cell_type": "markdown",
   "id": "5f407548",
   "metadata": {},
   "source": [
    "# Q12: What is t-statistic? State the formula for t-statistic.\n",
    "\n",
    "__Ans. :__<br>\n",
    "\n",
    "The t-statistic is a measure of how significant the difference between two sample means is. It is commonly used in hypothesis testing to determine whether the means of two populations are different from each other.\n",
    "\n",
    "The formula for calculating the t-statistic is:\n",
    "\n",
    "__t = (x̄₁ - x̄₂) / (s√(1/n₁ + 1/n₂))__\n",
    "\n",
    "where:\n",
    "\n",
    "__x̄₁ and x̄₂__ are the means of the two samples<br>\n",
    "__s__ is the pooled standard deviation of the two samples, calculated as:<br>\n",
    "__s = √((n₁-1)s₁² + (n₂-1)s₂² / (n₁+n₂-2))__<br>\n",
    "__n₁ and n₂__ are the sample sizes of the two samples.<br>\n",
    "The t-statistic is then compared to a t-distribution with (n₁ + n₂ - 2) degrees of freedom to determine the p-value and whether the difference between the means is statistically significant."
   ]
  },
  {
   "cell_type": "markdown",
   "id": "f6825a96",
   "metadata": {},
   "source": [
    "# Q13. A coffee shop owner wants to estimate the average daily revenue for their shop. They take a random sample of 50 days and find the sample mean revenue to be Rs.500 with a standard deviation of Rs.50. Estimate the population mean revenue with a 95% confidence interval.\n",
    "\n",
    "__Ans. :__<br>\n",
    "\n",
    "To estimate the population mean revenue with a 95% confidence interval, we can use the following formula:\n",
    "\n",
    "__CI = x̄ ± (tα/2 * (s/√n))__\n",
    "\n",
    "where:\n",
    "\n",
    "__x̄__ is the sample mean revenue<br>\n",
    "__tα/2__ is the t-value for the desired level of confidence (0.025 for a 95% confidence interval) with (n-1) degrees of freedom<br>\n",
    "__s__ is the sample standard deviation<br>\n",
    "__n__ is the sample size.<br>\n",
    "\n",
    "Plugging in the values given in the question, we get:\n",
    "\n",
    "__CI = 500 ± (t0.025 * (50/√50))<br>\n",
    "= 500 ± (2.009 * 7.07)<br>\n",
    "= 500 ± 14.20__<br>\n",
    "\n",
    "Therefore, the 95% confidence interval for the population mean revenue is __Rs.485.80 to Rs.514.20__. We can be 95% confident that the true population mean revenue falls within this range."
   ]
  },
  {
   "cell_type": "markdown",
   "id": "130241cc",
   "metadata": {},
   "source": [
    "# Q14. A researcher hypothesizes that a new drug will decrease blood pressure by 10 mmHg. They conduct a clinical trial with 100 patients and find that the sample mean decrease in blood pressure is 8 mmHg with a standard deviation of 3 mmHg. Test the hypothesis with a significance level of 0.05.\n",
    "\n",
    "__Ans. :__<br>\n",
    "\n",
    "To test the hypothesis that the new drug decreases blood pressure by 10 mmHg with a significance level of 0.05, we need to perform a one-sample t-test. The null and alternative hypotheses are:\n",
    "\n",
    "__H₀:__ The true mean decrease in blood pressure is not significantly different from 10 mmHg.<br>\n",
    "__H₁:__ The true mean decrease in blood pressure is significantly less than 10 mmHg.<br>\n",
    "\n",
    "The test statistic can be calculated using the formula:\n",
    "\n",
    "__t = (x̄ - μ₀) / (s/√n)__\n",
    "\n",
    "where:\n",
    "\n",
    "__x̄__ is the sample mean decrease in blood pressure<br>\n",
    "__μ₀__ is the hypothesized population mean decrease in blood pressure (10 mmHg in this case)<br>\n",
    "__s__ is the sample standard deviation<br>\n",
    "__n__ is the sample size.<br>\n",
    "\n",
    "Plugging in the values given in the question, we get:<br>\n",
    "\n",
    "__t = (8 - 10) / (3/√100)<br>\n",
    "= -2.82__\n",
    "\n",
    "Using a t-distribution table or calculator with 99 degrees of freedom (n-1), we find that the critical t-value for a one-tailed test with a significance level of 0.05 is -1.660. Since our calculated t-value is less than the critical t-value, we can reject the null hypothesis and conclude that the true mean decrease in blood pressure is significantly less than 10 mmHg at a significance level of 0.05."
   ]
  },
  {
   "cell_type": "markdown",
   "id": "49f1711c",
   "metadata": {},
   "source": [
    "# Q15. An electronics company produces a certain type of product with a mean weight of 5 pounds and a standard deviation of 0.5 pounds. A random sample of 25 products is taken, and the sample mean weight is found to be 4.8 pounds. Test the hypothesis that the true mean weight of the products is less than 5 pounds with a significance level of 0.01.\n",
    "\n",
    "__Ans. :__<br>\n",
    "\n",
    "To test the hypothesis that the true mean weight of the products is less than 5 pounds with a significance level of 0.01, we need to perform a one-sample t-test. The null and alternative hypotheses are:\n",
    "\n",
    "__H₀:__ The true mean weight of the products is not significantly different from 5 pounds.<br>\n",
    "__H₁:__ The true mean weight of the products is significantly less than 5 pounds.\n",
    "\n",
    "The test statistic can be calculated using the formula:\n",
    "\n",
    "__t = (x̄ - μ₀) / (s/√n)__\n",
    "\n",
    "where:\n",
    "\n",
    "__x̄__ is the sample mean weight of the products<br>\n",
    "__μ₀__ is the hypothesized population mean weight of the products (5 pounds in this case)<br>\n",
    "__s__ is the sample standard deviation<br>\n",
    "__n__ is the sample size.\n",
    "\n",
    "Plugging in the values given in the question, we get:\n",
    "\n",
    "__t = (4.8 - 5) / (0.5/√25)<br>\n",
    "= -2__\n",
    "\n",
    "Using a t-distribution table or calculator with 24 degrees of freedom (n-1), we find that the critical t-value for a one-tailed test with a significance level of 0.01 is -2.492. Since our calculated t-value is less than the critical t-value, we can reject the null hypothesis and conclude that the true mean weight of the products is significantly less than 5 pounds at a significance level of 0.01."
   ]
  },
  {
   "cell_type": "markdown",
   "id": "5bc852cc",
   "metadata": {},
   "source": [
    "# Q16. Two groups of students are given different study materials to prepare for a test. The first group (n1 = 30) has a mean score of 80 with a standard deviation of 10, and the second group (n2 = 40) has a mean score of 75 with a standard deviation of 8. Test the hypothesis that the population means for the two groups are equal with a significance level of 0.01.\n",
    "\n",
    "__Ans. :__<br>\n",
    "\n",
    "To test the hypothesis that the population means for the two groups are equal with a significance level of 0.01, we need to perform a two-sample t-test. The null and alternative hypotheses are:\n",
    "\n",
    "__H₀:__ μ₁ = μ₂ (The population means of both groups are equal)<br>\n",
    "__H₁:__ μ₁ ≠ μ₂ (The population means of both groups are not equal)\n",
    "\n",
    "The test statistic can be calculated using the formula:\n",
    "\n",
    "__t = (x̄₁ - x̄₂) / √((s₁²/n₁) + (s₂²/n₂))__\n",
    "\n",
    "where:\n",
    "\n",
    "__x̄₁ and x̄₂__ are the sample means of the first and second groups, respectively<br>\n",
    "__s₁ and s₂__ are the sample standard deviations of the first and second groups, respectively<br>\n",
    "__n₁ and n₂__ are the sample sizes of the first and second groups, respectively.\n",
    "\n",
    "Plugging in the values given in the question, we get:\n",
    "\n",
    "__t = (80 - 75) / √((10²/30) + (8²/40))<br>\n",
    "= 2.49__\n",
    "\n",
    "Using a t-distribution table or calculator with 68 degrees of freedom (n₁+n₂-2), we find that the critical t-value for a two-tailed test with a significance level of 0.01 is ±2.629. Since our calculated t-value is less than the critical t-value in absolute value, we fail to reject the null hypothesis and conclude that there is not enough evidence to suggest that the population means for the two groups are significantly different at a significance level of 0.01."
   ]
  },
  {
   "cell_type": "markdown",
   "id": "431df0d4",
   "metadata": {},
   "source": [
    "# Q17. A marketing company wants to estimate the average number of ads watched by viewers during a TV program. They take a random sample of 50 viewers and find that the sample mean is 4 with a standard deviation of 1.5. Estimate the population mean with a 99% confidence interval.\n",
    "\n",
    "__Ans. :__<br>\n",
    "\n",
    "To estimate the population mean number of ads watched by viewers during a TV program with a 99% confidence interval, we can use the following formula:\n",
    "\n",
    "__CI = x̄ ± z*(s/√n)__\n",
    "\n",
    "where:\n",
    "\n",
    "__x̄__ is the sample mean number of ads watched by viewers<br>\n",
    "__s__ is the sample standard deviation<br>\n",
    "__n__ is the sample size<br>\n",
    "__z*__ is the critical z-value for the desired confidence level.\n",
    "\n",
    "Using a z-table or calculator, we can find that the critical z-value for a 99% confidence level is 2.576.\n",
    "\n",
    "Plugging in the values given in the question, we get:\n",
    "\n",
    "__CI = 4 ± 2.576*(1.5/√50)<br>\n",
    "= 4 ± 0.658__\n",
    "\n",
    "Therefore, the 99% confidence interval for the population mean number of ads watched by viewers during a TV program is (4 - 0.658, 4 + 0.658), which can be simplified to (3.342, 4.658). We can say with 99% confidence that the true population mean number of ads watched by viewers during a TV program lies within this interval."
   ]
  }
 ],
 "metadata": {
  "kernelspec": {
   "display_name": "Python 3 (ipykernel)",
   "language": "python",
   "name": "python3"
  },
  "language_info": {
   "codemirror_mode": {
    "name": "ipython",
    "version": 3
   },
   "file_extension": ".py",
   "mimetype": "text/x-python",
   "name": "python",
   "nbconvert_exporter": "python",
   "pygments_lexer": "ipython3",
   "version": "3.9.7"
  }
 },
 "nbformat": 4,
 "nbformat_minor": 5
}
