{
 "cells": [
  {
   "cell_type": "markdown",
   "id": "94c94dc7",
   "metadata": {},
   "source": [
    "# Q1. Write a Python function that takes in two arrays of data and calculates the F-value for a variance ratio test. The function should return the F-value and the corresponding p-value for the test."
   ]
  },
  {
   "cell_type": "code",
   "execution_count": 1,
   "id": "9ed29860",
   "metadata": {},
   "outputs": [],
   "source": [
    "import numpy as np\n",
    "from scipy.stats import f\n",
    "\n",
    "def variance_ratio_test(x, y):\n",
    "    \"\"\"\n",
    "    Perform a variance ratio test to compare the variances of two data arrays x and y.\n",
    "    \n",
    "    Parameters:\n",
    "    x (array-like): First data array.\n",
    "    y (array-like): Second data array.\n",
    "    \n",
    "    Returns:\n",
    "    F (float): F-value for the variance ratio test.\n",
    "    p_value (float): Corresponding p-value for the test.\n",
    "    \"\"\"\n",
    "    n_x = len(x)\n",
    "    n_y = len(y)\n",
    "    var_x = np.var(x, ddof=1)\n",
    "    var_y = np.var(y, ddof=1)\n",
    "    \n",
    "    if var_x > var_y:\n",
    "        F = var_x / var_y\n",
    "        df1 = n_x - 1\n",
    "        df2 = n_y - 1\n",
    "    else:\n",
    "        F = var_y / var_x\n",
    "        df1 = n_y - 1\n",
    "        df2 = n_x - 1\n",
    "    \n",
    "    p_value = f.sf(F, df1, df2)\n",
    "    \n",
    "    return F, p_value"
   ]
  },
  {
   "cell_type": "code",
   "execution_count": 2,
   "id": "dff7b90b",
   "metadata": {},
   "outputs": [
    {
     "name": "stdout",
     "output_type": "stream",
     "text": [
      "F-value: 4.0\n",
      "p-value: 0.10400000000000002\n"
     ]
    }
   ],
   "source": [
    "x = [1, 2, 3, 4, 5]\n",
    "y = [2, 4, 6, 8, 10]\n",
    "\n",
    "F, p_value = variance_ratio_test(x, y)\n",
    "\n",
    "print(\"F-value:\", F)\n",
    "print(\"p-value:\", p_value)"
   ]
  },
  {
   "cell_type": "markdown",
   "id": "6db5a716",
   "metadata": {},
   "source": [
    "# Q2. Given a significance level of 0.05 and the degrees of freedom for the numerator and denominator of an F-distribution, write a Python function that returns the critical F-value for a two-tailed test."
   ]
  },
  {
   "cell_type": "code",
   "execution_count": 3,
   "id": "9ab30208",
   "metadata": {},
   "outputs": [],
   "source": [
    "from scipy.stats import f\n",
    "\n",
    "def critical_f_value(dfn,dfd,alpha):\n",
    "    \"\"\"\n",
    "    Calculate the critical F-value for a two-tailed test given degrees of freedom for numerator and denominator of an F-distribution and a significance level.\n",
    "    \n",
    "    Parameters:\n",
    "    dfn (int): Degrees of freedom for the numerator.\n",
    "    dfd (int): Degrees of freedom for the denominator.\n",
    "    alpha (float): Significance level.\n",
    "    \n",
    "    Returns:\n",
    "    crit_f (float): Critical F-value for a two-tailed test.\n",
    "    \"\"\"\n",
    "    crit_f = f.ppf(1 - alpha / 2, dfn, dfd)\n",
    "    return crit_f"
   ]
  },
  {
   "cell_type": "code",
   "execution_count": 4,
   "id": "38c23f0d",
   "metadata": {},
   "outputs": [
    {
     "name": "stdout",
     "output_type": "stream",
     "text": [
      "Critical F-value: 4.825621493405406\n"
     ]
    }
   ],
   "source": [
    "dfn = 3\n",
    "dfd = 10\n",
    "alpha = 0.05\n",
    "\n",
    "crit_f = critical_f_value(dfn, dfd, alpha)\n",
    "\n",
    "print(\"Critical F-value:\", crit_f)"
   ]
  },
  {
   "cell_type": "markdown",
   "id": "ce78dc5d",
   "metadata": {},
   "source": [
    "# Q3. Write a Python program that generates random samples from two normal distributions with known variances and uses an F-test to determine if the variances are equal. The program should output the F-value, degrees of freedom, and p-value for the test."
   ]
  },
  {
   "cell_type": "code",
   "execution_count": 8,
   "id": "2f86e423",
   "metadata": {},
   "outputs": [
    {
     "name": "stdout",
     "output_type": "stream",
     "text": [
      "Sample 1 mean: 10.228835463910581\n",
      "Sample 1 variance: 6.324748987421546\n",
      "Sample 2 mean: 11.837521741508342\n",
      "Sample 2 variance: 12.530651965031726\n",
      "F-value: 3.0825888511393837\n",
      "Degrees of freedom: 19 , 29\n",
      "p-value: 0.0855142060768227\n"
     ]
    }
   ],
   "source": [
    "import numpy as np\n",
    "from scipy.stats import f_oneway\n",
    "\n",
    "# Set the seed for reproducibility\n",
    "np.random.seed(123)\n",
    "\n",
    "# Generate two normal distributions with known variances\n",
    "mean1 = 10\n",
    "mean2 = 12\n",
    "var1 = 4\n",
    "var2 = 9\n",
    "\n",
    "n1 = 20\n",
    "n2 = 30\n",
    "\n",
    "sample1 = np.random.normal(mean1, np.sqrt(var1), n1)\n",
    "sample2 = np.random.normal(mean2, np.sqrt(var2), n2)\n",
    "\n",
    "# Calculate the F-value, degrees of freedom, and p-value for the F-test\n",
    "F, p_value = f_oneway(sample1, sample2)\n",
    "\n",
    "df1 = n1 - 1\n",
    "df2 = n2 - 1\n",
    "\n",
    "# Print the results\n",
    "print(\"Sample 1 mean:\", np.mean(sample1))\n",
    "print(\"Sample 1 variance:\", np.var(sample1, ddof=1))\n",
    "print(\"Sample 2 mean:\", np.mean(sample2))\n",
    "print(\"Sample 2 variance:\", np.var(sample2, ddof=1))\n",
    "\n",
    "print(\"F-value:\", F)\n",
    "print(\"Degrees of freedom:\", df1, \",\", df2)\n",
    "print(\"p-value:\", p_value)"
   ]
  },
  {
   "cell_type": "markdown",
   "id": "f2373a2c",
   "metadata": {},
   "source": [
    "# Q4.The variances of two populations are known to be 10 and 15. A sample of 12 observations is taken from each population. Conduct an F-test at the 5% significance level to determine if the variances are significantly different.\n",
    "\n",
    "# Ans. :\n",
    "\n",
    "To conduct an F-test to determine if the variances of two populations are significantly different, we need to set up the null and alternative hypotheses:\n",
    "\n",
    "* __Null hypothesis:__ The variances of the two populations are equal.\n",
    "* __Alternative hypothesis:__ The variances of the two populations are not equal.\n",
    "We will use a significance level of 0.05 for this test.\n",
    "\n",
    "The F-test statistic is calculated as the ratio of the larger sample variance to the smaller sample variance. In this case, the larger sample variance is 15 and the smaller sample variance is 10, so the F-test statistic is:\n",
    "\n",
    "__F = 15/10 = 1.5__\n",
    "\n",
    "To calculate the p-value for this test, we need to look up the critical F-value in an F-distribution table or use a calculator. With 11 degrees of freedom for the numerator and 11 degrees of freedom for the denominator (since we have 12 observations in each sample), the critical F-value at a 5% significance level is approximately 2.687.\n",
    "\n",
    "Since the calculated F-value of 1.5 is less than the critical F-value of 2.687, we fail to reject the null hypothesis. We do not have sufficient evidence to conclude that the variances of the two populations are significantly different at the 5% significance level.\n",
    "\n",
    "Therefore, we can conclude that there is not enough evidence to suggest that the variances of the two populations are different at a 5% significance level."
   ]
  },
  {
   "cell_type": "markdown",
   "id": "5105f0bf",
   "metadata": {},
   "source": [
    "# Q5. A manufacturer claims that the variance of the diameter of a certain product is 0.005. A sample of 25 products is taken, and the sample variance is found to be 0.006. Conduct an F-test at the 1% significance level to determine if the claim is justified.\n",
    "\n",
    "# Ans. \n",
    "\n",
    "To conduct an F-test to determine if the manufacturer's claim about the variance of the diameter of the product is justified, we need to set up the null and alternative hypotheses:\n",
    "\n",
    "* __Null hypothesis:__ The variance of the diameter of the product is equal to 0.005.\n",
    "* __Alternative hypothesis:__ The variance of the diameter of the product is not equal to 0.005.\n",
    "We will use a significance level of 0.01 for this test.\n",
    "\n",
    "The F-test statistic is calculated as the ratio of the sample variance to the hypothesized population variance. In this case, the sample variance is 0.006 and the hypothesized population variance is 0.005, so the F-test statistic is:\n",
    "\n",
    "__F = 0.006/0.005 = 1.2__\n",
    "\n",
    "To calculate the p-value for this test, we need to look up the critical F-value in an F-distribution table or use a calculator. With 24 degrees of freedom for the numerator (since we have 25 observations in the sample) and 1 degree of freedom for the denominator, the critical F-value at a 1% significance level is approximately 6.60.\n",
    "\n",
    "Since the calculated F-value of 1.2 is less than the critical F-value of 6.60, we fail to reject the null hypothesis. We do not have sufficient evidence to conclude that the variance of the diameter of the product is significantly different from 0.005 at the 1% significance level.\n",
    "\n",
    "Therefore, we can conclude that the manufacturer's claim about the variance of the diameter of the product is justified at a 1% significance level."
   ]
  },
  {
   "cell_type": "markdown",
   "id": "d3ce701a",
   "metadata": {},
   "source": [
    "# Q6. Write a Python function that takes in the degrees of freedom for the numerator and denominator of an F-distribution and calculates the mean and variance of the distribution. The function should return the mean and variance as a tuple."
   ]
  },
  {
   "cell_type": "code",
   "execution_count": 10,
   "id": "46bea775",
   "metadata": {},
   "outputs": [],
   "source": [
    "import numpy as np\n",
    "\n",
    "def f_distribution_stats(df_num, df_den):\n",
    "    mean = df_den / (df_den - 2)\n",
    "    var = (2 * (df_den**2) * (df_num + df_den - 2)) / ((df_num * (df_den - 2)**2 * (df_den - 4)))\n",
    "    return mean, var"
   ]
  },
  {
   "cell_type": "code",
   "execution_count": 11,
   "id": "177deb5c",
   "metadata": {},
   "outputs": [
    {
     "name": "stdout",
     "output_type": "stream",
     "text": [
      "Mean: 1.25\n",
      "Variance: 1.3541666666666667\n"
     ]
    }
   ],
   "source": [
    "mean, var = f_distribution_stats(5, 10)\n",
    "print(\"Mean:\", mean)\n",
    "print(\"Variance:\", var)"
   ]
  },
  {
   "cell_type": "markdown",
   "id": "6db62cd7",
   "metadata": {},
   "source": [
    "# Q7. A random sample of 10 measurements is taken from a normal population with unknown variance. The sample variance is found to be 25. Another random sample of 15 measurements is taken from another normal population with unknown variance, and the sample variance is found to be 20. Conduct an F-test at the 10% significance level to determine if the variances are significantly different.\n",
    "\n",
    "# Ans. :\n",
    "\n",
    "To conduct an F-test to determine if the variances of the two populations are significantly different, we need to set up the null and alternative hypotheses:\n",
    "\n",
    "* __Null hypothesis:__ The variances of the two populations are equal.\n",
    "* __Alternative hypothesis:__ The variances of the two populations are not equal.\n",
    "We will use a significance level of 0.10 for this test.\n",
    "\n",
    "The F-test statistic is calculated as the ratio of the larger sample variance to the smaller sample variance. In this case, the larger sample variance is 25 and the smaller sample variance is 20, so the F-test statistic is:\n",
    "\n",
    "__F = 25/20 = 1.25__\n",
    "\n",
    "To calculate the p-value for this test, we need to look up the critical F-value in an F-distribution table or use a calculator. With 9 degrees of freedom for the numerator (since we have 10 observations in the first sample) and 14 degrees of freedom for the denominator (since we have 15 observations in the second sample), the critical F-value at a 10% significance level is approximately 2.50.\n",
    "\n",
    "Since the calculated F-value of 1.25 is less than the critical F-value of 2.50, we fail to reject the null hypothesis. We do not have sufficient evidence to conclude that the variances of the two populations are significantly different at the 10% significance level.\n",
    "\n",
    "Therefore, we can conclude that there is no significant difference between the variances of the two populations at a 10% significance level."
   ]
  },
  {
   "cell_type": "markdown",
   "id": "3a8bf487",
   "metadata": {},
   "source": [
    "# Q8. The following data represent the waiting times in minutes at two different restaurants on a Saturday night: Restaurant A: 24, 25, 28, 23, 22, 20, 27; Restaurant B: 31, 33, 35, 30, 32, 36. Conduct an F-test at the 5% significance level to determine if the variances are significantly different.\n",
    "\n",
    "# Ans. :\n",
    "\n",
    "To conduct an F-test to determine if the variances of the waiting times at two different restaurants are significantly different, we need to set up the null and alternative hypotheses:\n",
    "\n",
    "* __Null hypothesis:__ The variances of the waiting times at the two restaurants are equal.\n",
    "* __Alternative hypothesis:__ The variances of the waiting times at the two restaurants are not equal.<br>\n",
    "\n",
    "We will use a significance level of 0.05 for this test.\n",
    "\n",
    "First, we need to calculate the sample variances for each restaurant:\n",
    "\n",
    "* Sample variance for Restaurant A: sA^2 = ((24-24.14)^2 + (25-24.14)^2 + (28-24.14)^2 + (23-24.14)^2 + (22-24.14)^2 + (20-24.14)^2 + (27-24.14)^2)/6 = 8.61\n",
    "* Sample variance for Restaurant B: sB^2 = ((31-32.83)^2 + (33-32.83)^2 + (35-32.83)^2 + (30-32.83)^2 + (32-32.83)^2 + (36-32.83)^2)/5 = 7.97<br>\n",
    "\n",
    "Next, we calculate the F-test statistic, which is the ratio of the larger sample variance to the smaller sample variance:\n",
    "\n",
    "__F = sA^2 / sB^2 = 8.61 / 7.97 = 1.08__\n",
    "\n",
    "To calculate the p-value for this test, we need to look up the critical F-value in an F-distribution table or use a calculator. With 6 degrees of freedom for the numerator (since we have 7 observations in Restaurant A) and 5 degrees of freedom for the denominator (since we have 6 observations in Restaurant B), the critical F-value at a 5% significance level is approximately 4.39.\n",
    "\n",
    "Since the calculated F-value of 1.08 is less than the critical F-value of 4.39, we fail to reject the null hypothesis. We do not have sufficient evidence to conclude that the variances of the waiting times at the two restaurants are significantly different at the 5% significance level.\n",
    "\n",
    "Therefore, we can conclude that there is no significant difference between the variances of the waiting times at the two restaurants at a 5% significance level."
   ]
  },
  {
   "cell_type": "markdown",
   "id": "da5895c1",
   "metadata": {},
   "source": [
    "# Q9. The following data represent the test scores of two groups of students: Group A: 80, 85, 90, 92, 87, 83; Group B: 75, 78, 82, 79, 81, 84. Conduct an F-test at the 1% significance level to determine if the variances are significantly different.\n",
    "\n",
    "# Ans. :\n",
    "\n",
    "\n",
    "To conduct an F-test to determine if the variances of the two groups are significantly different, we need to set up the null and alternative hypotheses:\n",
    "\n",
    "* __Null hypothesis:__ The variances of the two groups are equal.\n",
    "* __Alternative hypothesis:__ The variances of the two groups are not equal.\n",
    "We will use a significance level of 0.01 for this test.\n",
    "\n",
    "First, we need to calculate the sample variances for each group:\n",
    "\n",
    "* Sample variance for Group A: sA^2 = ((80-87.17)^2 + (85-87.17)^2 + (90-87.17)^2 + (92-87.17)^2 + (87-87.17)^2 + (83-87.17)^2)/5 = 19.53\n",
    "* Sample variance for Group B: sB^2 = ((75-80.83)^2 + (78-80.83)^2 + (82-80.83)^2 + (79-80.83)^2 + (81-80.83)^2 + (84-80.83)^2)/5 = 8.31<br>\n",
    "\n",
    "Next, we calculate the F-test statistic, which is the ratio of the larger sample variance to the smaller sample variance:\n",
    "\n",
    "__F = sA^2 / sB^2 = 19.53 / 8.31 = 2.35__\n",
    "\n",
    "To calculate the p-value for this test, we need to look up the critical F-value in an F-distribution table or use a calculator. With 5 degrees of freedom for the numerator (since we have 6 observations in Group A) and 5 degrees of freedom for the denominator (since we have 6 observations in Group B), the critical F-value at a 1% significance level is approximately 7.71.\n",
    "\n",
    "Since the calculated F-value of 2.35 is less than the critical F-value of 7.71, we fail to reject the null hypothesis. We do not have sufficient evidence to conclude that the variances of the two groups are significantly different at the 1% significance level.\n",
    "\n",
    "Therefore, we can conclude that there is no significant difference between the variances of the two groups at a 1% significance level."
   ]
  }
 ],
 "metadata": {
  "kernelspec": {
   "display_name": "Python 3 (ipykernel)",
   "language": "python",
   "name": "python3"
  },
  "language_info": {
   "codemirror_mode": {
    "name": "ipython",
    "version": 3
   },
   "file_extension": ".py",
   "mimetype": "text/x-python",
   "name": "python",
   "nbconvert_exporter": "python",
   "pygments_lexer": "ipython3",
   "version": "3.9.7"
  }
 },
 "nbformat": 4,
 "nbformat_minor": 5
}
