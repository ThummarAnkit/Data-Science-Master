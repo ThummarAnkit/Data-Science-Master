{
 "cells": [
  {
   "cell_type": "markdown",
   "id": "a028b3d5",
   "metadata": {},
   "source": [
    "# Q1. Calculate the 95% confidence interval for a sample of data with a mean of 50 and a standard deviation of 5 using Python. Interpret the results."
   ]
  },
  {
   "cell_type": "code",
   "execution_count": 1,
   "id": "2efb3cce",
   "metadata": {},
   "outputs": [
    {
     "name": "stdout",
     "output_type": "stream",
     "text": [
      "The 95% confidence interval is [48.58, 51.42].\n"
     ]
    }
   ],
   "source": [
    "import scipy.stats as stats\n",
    "\n",
    "sample_mean = 50\n",
    "sample_std_dev = 5\n",
    "sample_size = 50\n",
    "\n",
    "confidence_level = 0.95\n",
    "degrees_of_freedom = sample_size - 1\n",
    "\n",
    "lower, upper = stats.t.interval(confidence_level, degrees_of_freedom, loc=sample_mean, scale=sample_std_dev/(sample_size**0.5))\n",
    "\n",
    "print(\"The 95% confidence interval is [{:.2f}, {:.2f}].\".format(lower, upper))"
   ]
  },
  {
   "cell_type": "markdown",
   "id": "eb979970",
   "metadata": {},
   "source": [
    "__Interpretation:__\n",
    "We can say with 95% confidence that the true population mean lies between 48.58 and 51.42, based on the sample data. In other words, if we repeated this sampling process many times and calculated the confidence intervals each time, we would expect that 95% of those intervals would contain the true population mean."
   ]
  },
  {
   "cell_type": "markdown",
   "id": "bf9de3bc",
   "metadata": {},
   "source": [
    "# Q2. Conduct a chi-square goodness of fit test to determine if the distribution of colors of M&Ms in a bag matches the expected distribution of 20% blue, 20% orange, 20% green, 10% yellow, 10% red, and 20% brown. Use Python to perform the test with a significance level of 0.05."
   ]
  },
  {
   "cell_type": "code",
   "execution_count": 2,
   "id": "074b4cd7",
   "metadata": {},
   "outputs": [
    {
     "name": "stdout",
     "output_type": "stream",
     "text": [
      "Chi-square statistic = 4.18\n",
      "p-value = 0.5235\n",
      "The distribution of colors in the M&M bag matches the expected distribution.\n"
     ]
    }
   ],
   "source": [
    "import numpy as np\n",
    "from scipy.stats import chisquare\n",
    "\n",
    "# observed frequencies of each color\n",
    "observed = np.array([30, 22, 18, 11, 9, 20])\n",
    "\n",
    "# expected frequencies of each color\n",
    "expected = np.array([0.2, 0.2, 0.2, 0.1, 0.1, 0.2]) * sum(observed)\n",
    "\n",
    "# perform chi-square goodness of fit test\n",
    "statistic, p_value = chisquare(observed, expected)\n",
    "\n",
    "print(\"Chi-square statistic = {:.2f}\".format(statistic))\n",
    "print(\"p-value = {:.4f}\".format(p_value))\n",
    "\n",
    "# compare p-value to the significance level\n",
    "alpha = 0.05\n",
    "if p_value > alpha:\n",
    "    print(\"The distribution of colors in the M&M bag matches the expected distribution.\")\n",
    "else:\n",
    "    print(\"The distribution of colors in the M&M bag does not match the expected distribution.\")"
   ]
  },
  {
   "cell_type": "markdown",
   "id": "97a3d8c0",
   "metadata": {},
   "source": [
    "__Interpretation:__\n",
    "The chi-square goodness of fit test tests the null hypothesis that the observed frequencies of each color in the M&Ms bag match the expected frequencies. The p-value of the test is 0.5235, which is greater than the significance level of 0.05. Therefore, we fail to reject the null hypothesis and conclude that the distribution of colors in the M&M bag matches the expected distribution."
   ]
  },
  {
   "cell_type": "markdown",
   "id": "6f880c51",
   "metadata": {},
   "source": [
    "# Q3. Use Python to calculate the chi-square statistic and p-value for a contingency table with the following data:\n",
    "                     Group A      Group B\n",
    "    Outcome 1 :        20           15\n",
    "    Outcome 2 :        10           25\n",
    "    Outcome 3 :        15           20\n",
    "# Interpret the results of the test."
   ]
  },
  {
   "cell_type": "code",
   "execution_count": 3,
   "id": "174d99f8",
   "metadata": {},
   "outputs": [
    {
     "name": "stdout",
     "output_type": "stream",
     "text": [
      "Chi-square statistic: 5.83\n",
      "P-value: 0.0541\n",
      "Degrees of freedom: 2\n",
      "Expected frequencies: \n",
      "[[15. 20.]\n",
      " [15. 20.]\n",
      " [15. 20.]]\n"
     ]
    }
   ],
   "source": [
    "import numpy as np\n",
    "from scipy.stats import chi2_contingency\n",
    "\n",
    "# contingency table\n",
    "observed = np.array([[20, 15], [10, 25], [15, 20]])\n",
    "\n",
    "# perform chi-square test\n",
    "chi2, p, dof, expected = chi2_contingency(observed)\n",
    "\n",
    "# print results\n",
    "print(\"Chi-square statistic: {:.2f}\".format(chi2))\n",
    "print(\"P-value: {:.4f}\".format(p))\n",
    "print(\"Degrees of freedom: {}\".format(dof))\n",
    "print(\"Expected frequencies: \\n{}\".format(expected))"
   ]
  },
  {
   "cell_type": "markdown",
   "id": "213fd7b6",
   "metadata": {},
   "source": [
    "__Interpretation :__\n",
    "The output shows that the chi-square statistic is 5.83, the p-value is 0.0541, and the degrees of freedom are 2. Since the p-value is greater than the significance level of 0.05, we fail to reject the null hypothesis. Therefore, we can conclude that there is not enough evidence to suggest that the distribution of outcomes differs between Group A and Group B at a significance level of 0.05."
   ]
  },
  {
   "cell_type": "markdown",
   "id": "620f920e",
   "metadata": {},
   "source": [
    "# Q4. A study of the prevalence of smoking in a population of 500 individuals found that 60 individuals smoked. Use Python to calculate the 95% confidence interval for the true proportion of individuals in the population who smoke."
   ]
  },
  {
   "cell_type": "code",
   "execution_count": 4,
   "id": "663a0b24",
   "metadata": {},
   "outputs": [
    {
     "name": "stdout",
     "output_type": "stream",
     "text": [
      "The 95% confidence interval for the true proportion of individuals who smoke is: (0.09151586546865079, 0.1484841345313492)\n"
     ]
    }
   ],
   "source": [
    "import math\n",
    "\n",
    "# Sample size\n",
    "n = 500\n",
    "\n",
    "# Number of individuals who smoke\n",
    "x = 60\n",
    "\n",
    "# Sample proportion\n",
    "p = x / n\n",
    "\n",
    "# Z-score for 95% confidence interval\n",
    "z = 1.96\n",
    "\n",
    "# Standard error\n",
    "se = math.sqrt((p * (1 - p)) / n)\n",
    "\n",
    "# Margin of error\n",
    "me = z * se\n",
    "\n",
    "# Confidence interval\n",
    "ci = (p - me, p + me)\n",
    "\n",
    "print(\"The 95% confidence interval for the true proportion of individuals who smoke is:\", ci)"
   ]
  },
  {
   "cell_type": "markdown",
   "id": "250bfdca",
   "metadata": {},
   "source": [
    "# Q5. Calculate the 90% confidence interval for a sample of data with a mean of 75 and a standard deviation of 12 using Python. Interpret the results."
   ]
  },
  {
   "cell_type": "code",
   "execution_count": 5,
   "id": "05d6af74",
   "metadata": {},
   "outputs": [
    {
     "name": "stdout",
     "output_type": "stream",
     "text": [
      "The 90% confidence interval for the population mean is: (71.39598557161601, 78.60401442838399)\n"
     ]
    }
   ],
   "source": [
    "import math\n",
    "\n",
    "# Sample mean\n",
    "x_bar = 75\n",
    "\n",
    "# Sample standard deviation\n",
    "s = 12\n",
    "\n",
    "# Sample size\n",
    "n = 30\n",
    "\n",
    "# Z-score for 90% confidence interval\n",
    "z = 1.645\n",
    "\n",
    "# Margin of error\n",
    "me = z * (s / math.sqrt(n))\n",
    "\n",
    "# Confidence interval\n",
    "ci = (x_bar - me, x_bar + me)\n",
    "\n",
    "print(\"The 90% confidence interval for the population mean is:\", ci)"
   ]
  },
  {
   "cell_type": "markdown",
   "id": "3b5437a5",
   "metadata": {},
   "source": [
    "Therefore, we can be 90% confident that the true population mean is between 71.42 and 78.58. This means that if we were to repeat this study many times and calculate the 90% confidence interval each time, we would expect the true population mean to fall within this interval in about 90% of the studies. Note that since we do not know the true population mean, we can only estimate it using the sample mean, and the confidence interval provides a range of plausible values for the true population mean based on the sample data."
   ]
  },
  {
   "cell_type": "markdown",
   "id": "74fb9bd8",
   "metadata": {},
   "source": [
    "# Q6. Use Python to plot the chi-square distribution with 10 degrees of freedom. Label the axes and shade the area corresponding to a chi-square statistic of 15."
   ]
  },
  {
   "cell_type": "code",
   "execution_count": 6,
   "id": "7c0a1a8c",
   "metadata": {},
   "outputs": [
    {
     "data": {
      "image/png": "[encoded data removed]",
      "text/plain": [
       "<Figure size 432x288 with 1 Axes>"
      ]
     },
     "metadata": {
      "needs_background": "light"
     },
     "output_type": "display_data"
    }
   ],
   "source": [
    "import numpy as np\n",
    "import matplotlib.pyplot as plt\n",
    "import scipy.stats as stats\n",
    "\n",
    "# Set the degrees of freedom\n",
    "df = 10\n",
    "\n",
    "# Create an array of x values\n",
    "x = np.linspace(0, 25, 1000)\n",
    "\n",
    "# Calculate the chi-square pdf for the given degrees of freedom\n",
    "y = stats.chi2.pdf(x, df)\n",
    "\n",
    "# Create a figure and axis\n",
    "fig, ax = plt.subplots()\n",
    "\n",
    "# Plot the chi-square pdf\n",
    "ax.plot(x, y)\n",
    "\n",
    "# Shade the area corresponding to a chi-square statistic of 15\n",
    "x_shade = np.linspace(15, 25, 1000)\n",
    "y_shade = stats.chi2.pdf(x_shade, df)\n",
    "ax.fill_between(x_shade, y_shade, 0, alpha=0.5)\n",
    "\n",
    "# Label the x-axis and y-axis\n",
    "ax.set_xlabel(\"Chi-square statistic\")\n",
    "ax.set_ylabel(\"Probability density\")\n",
    "\n",
    "# Show the plot\n",
    "plt.show()"
   ]
  },
  {
   "cell_type": "markdown",
   "id": "25b76a61",
   "metadata": {},
   "source": [
    "# Q7. A random sample of 1000 people was asked if they preferred Coke or Pepsi. Of the sample, 520 preferred Coke. Calculate a 99% confidence interval for the true proportion of people in the population who prefer Coke."
   ]
  },
  {
   "cell_type": "code",
   "execution_count": 7,
   "id": "c70719dc",
   "metadata": {},
   "outputs": [
    {
     "name": "stdout",
     "output_type": "stream",
     "text": [
      "The 99% confidence interval for the true proportion of people who prefer Coke is: (0.47930246089012263, 0.5606975391098774)\n"
     ]
    }
   ],
   "source": [
    "import math\n",
    "\n",
    "# Sample size\n",
    "n = 1000\n",
    "\n",
    "# Number of people who preferred Coke\n",
    "x = 520\n",
    "\n",
    "# Sample proportion\n",
    "p = x / n\n",
    "\n",
    "# Z-score for 99% confidence interval\n",
    "z = 2.576\n",
    "\n",
    "# Margin of error\n",
    "me = z * math.sqrt((p * (1 - p)) / n)\n",
    "\n",
    "# Confidence interval\n",
    "ci = (p - me, p + me)\n",
    "\n",
    "print(\"The 99% confidence interval for the true proportion of people who prefer Coke is:\", ci)"
   ]
  },
  {
   "cell_type": "markdown",
   "id": "379cbe01",
   "metadata": {},
   "source": [
    "# Q8. A researcher hypothesizes that a coin is biased towards tails. They flip the coin 100 times and observe 45 tails. Conduct a chi-square goodness of fit test to determine if the observed frequencies match the expected frequencies of a fair coin. Use a significance level of 0.05."
   ]
  },
  {
   "cell_type": "markdown",
   "id": "7b110070",
   "metadata": {},
   "source": [
    "### Ans. :<br>\n",
    "\n",
    "To conduct a chi-square goodness of fit test to determine if the observed frequencies match the expected frequencies of a fair coin, we can use the following steps:\n",
    "\n",
    "### 1. State the null hypothesis (H0) and alternative hypothesis (Ha):\n",
    "\n",
    "* __H0:__ The coin is fair (i.e., has a 50-50 chance of landing on heads or tails).\n",
    "* __Ha:__ The coin is biased towards tails (i.e., has a greater than 50% chance of landing on tails).\n",
    "\n",
    "### 2. Define the level of significance (alpha) and the degrees of freedom (df):\n",
    "\n",
    "* __alpha__ = 0.05 (given in the question)\n",
    "* __df__ = number of categories - 1 = 2 - 1 = 1 (since there are two possible outcomes: heads or tails)\n",
    "\n",
    "### 3. Determine the expected frequencies under the null hypothesis\n",
    "\n",
    "* Since the null hypothesis assumes a fair coin, the expected frequency for each category is 50% of the sample size, or 50 for heads and 50 for tails.\n",
    "\n",
    "### 4. Calculate the test statistic:\n",
    "\n",
    "* The chi-square test statistic is calculated as:\n",
    "\n",
    "  __chi2 = sum((observed - expected)^2 / expected)__\n",
    "\n",
    "* where the sum is taken over all categories, observed is the observed frequency in each category, and expected is the expected frequency in each category under the null hypothesis.\n",
    "\n",
    "* In this case, the observed frequencies are 55 for heads (since 100 - 45 = 55) and 45 for tails, and the expected frequencies are 50 for each category.\n",
    "\n",
    "* Substituting these values into the formula, we get:<br>\n",
    "  __chi2 = ((55 - 50)^2 / 50) + ((45 - 50)^2 / 50) = 1__\n",
    "\n",
    "### 5. Determine the critical value:\n",
    "\n",
    "* The critical value of chi-square with 1 degree of freedom and a significance level of 0.05 is 3.84, using a chi-square distribution table or a calculator.\n",
    "\n",
    "### 6. Compare the test statistic to the critical value:\n",
    "\n",
    "* Since the test statistic (1) is less than the critical value (3.84), we fail to reject the null hypothesis.\n",
    "\n",
    "### 7. Interpret the results:\n",
    "\n",
    "* Since we fail to reject the null hypothesis, there is not enough evidence to conclude that the coin is biased towards tails. The observed frequencies of heads and tails are consistent with what we would expect from a fair coin.\n",
    "\n",
    "__To conduct these calculations in Python, we can use the following code:__"
   ]
  },
  {
   "cell_type": "code",
   "execution_count": 9,
   "id": "1bacf1af",
   "metadata": {},
   "outputs": [
    {
     "name": "stdout",
     "output_type": "stream",
     "text": [
      "Chi-square test statistic: 1.0\n",
      "Critical value: 3.841458820694124\n",
      "Fail to reject the null hypothesis\n"
     ]
    }
   ],
   "source": [
    "import numpy as np\n",
    "import scipy.stats as stats\n",
    "\n",
    "# Define the observed frequencies\n",
    "observed = np.array([55, 45])\n",
    "\n",
    "# Define the expected frequencies under the null hypothesis\n",
    "expected = np.array([50, 50])\n",
    "\n",
    "# Calculate the chi-square test statistic\n",
    "chi2, p = stats.chisquare(observed, expected)\n",
    "\n",
    "# Define the significance level and degrees of freedom\n",
    "alpha = 0.05\n",
    "df = len(observed) - 1\n",
    "\n",
    "# Calculate the critical value\n",
    "crit = stats.chi2.ppf(1 - alpha, df)\n",
    "\n",
    "# Print the results\n",
    "print(\"Chi-square test statistic:\", chi2)\n",
    "print(\"Critical value:\", crit)\n",
    "\n",
    "if chi2 > crit:\n",
    "    print(\"Reject the null hypothesis\")\n",
    "else:\n",
    "    print(\"Fail to reject the null hypothesis\")"
   ]
  },
  {
   "cell_type": "markdown",
   "id": "de4b65fc",
   "metadata": {},
   "source": [
    "# Q9. A study was conducted to determine if there is an association between smoking status (smoker or non-smoker) and lung cancer diagnosis (yes or no). The results are shown in the contingency table below. Conduct a chi-square test for independence to determine if there is a significant association between smoking status and lung cancer diagnosis.\n",
    "            Lung Cancer: Yes   Lung Cancer: No\n",
    "\n",
    "    Smoker       60                 140\n",
    "    Non-smoker   30                 170\n",
    "# Use a significance level of 0.05."
   ]
  },
  {
   "cell_type": "markdown",
   "id": "9f861597",
   "metadata": {},
   "source": [
    "# Ans. : \n",
    "\n",
    "To conduct a chi-square test for independence, we need to first state our null and alternative hypotheses. Our null hypothesis is that smoking status and lung cancer diagnosis are independent, meaning that there is no association between the two variables. Our alternative hypothesis is that there is a significant association between smoking status and lung cancer diagnosis.\n",
    "\n",
    "Next, we need to calculate the expected values for each cell in the contingency table assuming the null hypothesis is true. We can do this by calculating the row and column totals and using those to determine the expected values.\n",
    "\n",
    "            Lung Cancer: Yes   Lung Cancer: No       Row Total\n",
    "\n",
    "    Smoker       60                 140                200\n",
    "    Non-smoker   30                 170                200\n",
    "    Column Total 90                 310                400\n",
    "\n",
    "Expected value for cell (1,1) = (20090)/400 = 45<br>\n",
    "Expected value for cell (1,2) = (200310)/400 = 155<br>\n",
    "Expected value for cell (2,1) = (20090)/400 = 45<br>\n",
    "Expected value for cell (2,2) = (200310)/400 = 155\n",
    "\n",
    "We can now calculate the chi-square statistic using the formula:\n",
    "\n",
    "__χ² = Σ [(Observed value - Expected value)² / Expected value]__\n",
    "\n",
    "The degrees of freedom for a contingency table with 2 rows and 2 columns is (number of rows - 1) * (number of columns - 1) = 1.\n",
    "\n",
    "Plugging in the values from our contingency table, we get:\n",
    "\n",
    "__χ² = [(60-45)²/45] + [(140-155)²/155] + [(30-45)²/45] + [(170-155)²/155]<br>\n",
    "= 5.33 + 5.33 + 5.33 + 5.33<br>\n",
    "= 21.32__\n",
    "\n",
    "The critical value of chi-square with 1 degree of freedom at a significance level of 0.05 is 3.84. Since our calculated chi-square value (21.32) is greater than the critical value (3.84), we reject the null hypothesis and conclude that there is a significant association between smoking status and lung cancer diagnosis.\n",
    "\n",
    "Therefore, we can conclude that there is a significant difference between the expected and observed frequencies, and hence there is an association between smoking status and lung cancer diagnosis."
   ]
  },
  {
   "cell_type": "markdown",
   "id": "fba0a854",
   "metadata": {},
   "source": [
    "# Q10. A study was conducted to determine if the proportion of people who prefer milk chocolate, dark chocolate, or white chocolate is different in the U.S. versus the U.K. A random sample of 500 people from the U.S. and a random sample of 500 people from the U.K. were surveyed. The results are shown in the contingency table below. Conduct a chi-square test for independence to determine if there is a significant association between chocolate preference and country of origin.\n",
    "\n",
    "                    Milk Chocolate   Dark Chocolate   White Chocolate\n",
    "\n",
    "    U.S. (n=500)       200              150               150\n",
    "    U.K. (n=500)       225              175               100\n",
    "\n",
    "# Use a significance level of 0.01."
   ]
  },
  {
   "cell_type": "markdown",
   "id": "97cf3a50",
   "metadata": {},
   "source": [
    "# Ans. :\n",
    "\n",
    "To conduct a chi-square test for independence, we need to first state our null and alternative hypotheses. Our null hypothesis is that there is no association between chocolate preference and country of origin. Our alternative hypothesis is that there is a significant association between chocolate preference and country of origin.\n",
    "\n",
    "Next, we need to calculate the expected values for each cell in the contingency table assuming the null hypothesis is true. We can do this by calculating the row and column totals and using those to determine the expected values.\n",
    "\n",
    "                  Milk Chocolate  Dark Chocolate  White Chocolate  Row Total\n",
    "\n",
    "    U.S. (n=500)      200             150              150            500\n",
    "    U.K. (n=500)      225             175              100            500\n",
    "    Column Total      425             325              250            1000\n",
    "\n",
    "Expected value for cell (1,1) = (500425)/1000 = 212.5<br>\n",
    "Expected value for cell (1,2) = (500325)/1000 = 162.5<br>\n",
    "Expected value for cell (1,3) = (500250)/1000 = 125<br>\n",
    "Expected value for cell (2,1) = (500425)/1000 = 212.5<br>\n",
    "Expected value for cell (2,2) = (500325)/1000 = 162.5<br>\n",
    "Expected value for cell (2,3) = (500250)/1000 = 125\n",
    "\n",
    "We can now calculate the chi-square statistic using the formula:\n",
    "\n",
    "__χ² = Σ [(Observed value - Expected value)² / Expected value]__\n",
    "\n",
    "The degrees of freedom for a contingency table with 2 rows and 3 columns is (number of rows - 1) * (number of columns - 1) = 2.\n",
    "\n",
    "Plugging in the values from our contingency table, we get:\n",
    "\n",
    "__χ² = [(200-212.5)²/212.5] + [(150-162.5)²/162.5] + [(150-125)²/125] + [(225-212.5)²/212.5] + [(175-162.5)²/162.5] + [(100-125)²/125]<br>\n",
    "= 1.64 + 1.64 + 6.4 + 1.64 + 1.64 + 6.4<br>\n",
    "= 18.32__\n",
    "\n",
    "The critical value of chi-square with 2 degrees of freedom at a significance level of 0.01 is 9.21. Since our calculated chi-square value (18.32) is greater than the critical value (9.21), we reject the null hypothesis and conclude that there is a significant association between chocolate preference and country of origin.\n",
    "\n",
    "Therefore, we can conclude that there is a significant difference between the expected and observed frequencies, and hence there is an association between chocolate preference and country of origin."
   ]
  },
  {
   "cell_type": "markdown",
   "id": "c5460c30",
   "metadata": {},
   "source": [
    "# Q11. A random sample of 30 people was selected from a population with an unknown mean and standard deviation. The sample mean was found to be 72 and the sample standard deviation was found to be 10. Conduct a hypothesis test to determine if the population mean is significantly different from 70. Use a significance level of 0.05."
   ]
  },
  {
   "cell_type": "markdown",
   "id": "4caac473",
   "metadata": {},
   "source": [
    "# Ans. :\n",
    "\n",
    "To conduct a hypothesis test to determine if the population mean is significantly different from 70, we need to state our null and alternative hypotheses.\n",
    "\n",
    "Our __null hypothesis (H0)__ is that the population mean is equal to 70. The __alternative hypothesis (H1)__ is that the population mean is significantly different from 70.\n",
    "\n",
    "We can use a t-test to test our hypotheses since the sample size is small (n = 30) and the population standard deviation is unknown.\n",
    "\n",
    "The t-statistic for testing the null hypothesis can be calculated as:\n",
    "\n",
    "__t = (sample mean - hypothesized population mean) / (sample standard deviation / sqrt(sample size))__\n",
    "\n",
    "Plugging in the values from the question, we get:\n",
    "\n",
    "__t = (72 - 70) / (10 / sqrt(30))<br>\n",
    "t = 1.039__\n",
    "\n",
    "Using a t-distribution table with 29 degrees of freedom (n-1), at a significance level of 0.05 (two-tailed), the critical values are -2.045 and 2.045.\n",
    "\n",
    "Since our calculated t-statistic (1.039) does not fall in the critical region, we fail to reject the null hypothesis. We can conclude that there is not enough evidence to suggest that the population mean is significantly different from 70 at the 0.05 significance level.\n",
    "\n",
    "Therefore, we can't say with 95% confidence that the population mean is different from 70, based on the given sample."
   ]
  }
 ],
 "metadata": {
  "kernelspec": {
   "display_name": "Python 3 (ipykernel)",
   "language": "python",
   "name": "python3"
  },
  "language_info": {
   "codemirror_mode": {
    "name": "ipython",
    "version": 3
   },
   "file_extension": ".py",
   "mimetype": "text/x-python",
   "name": "python",
   "nbconvert_exporter": "python",
   "pygments_lexer": "ipython3",
   "version": "3.9.7"
  }
 },
 "nbformat": 4,
 "nbformat_minor": 5
}
