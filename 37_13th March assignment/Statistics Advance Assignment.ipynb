{
 "cells": [
  {
   "cell_type": "markdown",
   "id": "63f1393a",
   "metadata": {},
   "source": [
    "# Q1. Explain the assumptions required to use ANOVA and provide examples of violations that could impact the validity of the results.\n",
    "\n",
    "# Ans. :\n",
    "\n",
    "ANOVA (Analysis of Variance) is a statistical test used to determine whether there are significant differences among the means of two or more groups. It is based on several assumptions that need to be met for the results to be valid. These assumptions include:\n",
    "\n",
    "__1. Normality of sampling distribution of means:__ The sampling distribution of means for each group should be normally distributed.<br>\n",
    "__2. Homogeneity of variances:__ The variances of each group should be equal.<br>\n",
    "__3. Independence of samples:__ The samples should be independent of each other.<br>\n",
    "__4. Absence of outliers:__ There should be no extreme values or outliers in the data.\n",
    "\n",
    "Examples of violations that could impact the validity of the results include:\n",
    "\n",
    "__1. Violation of normality assumption:__ If the data are not normally distributed, the ANOVA results may not be valid. For example, if the data are skewed or have a heavy tail, the assumption of normality may be violated. In such cases, a non-parametric test may be more appropriate.\n",
    "\n",
    "__2. Violation of homogeneity of variances:__ If the variances of the groups are not equal, the ANOVA results may not be reliable. For example, if the variances of the groups are very different, the assumption of homogeneity may be violated. In such cases, a Welch's ANOVA test may be more appropriate.\n",
    "\n",
    "__3. Violation of independence assumption:__ If the samples are not independent, the ANOVA results may be biased. For example, if the same subjects are used in each group, the assumption of independence may be violated. In such cases, a repeated-measures ANOVA test may be more appropriate.\n",
    "\n",
    "__4. Presence of outliers:__ If there are extreme values or outliers in the data, the ANOVA results may be affected. Outliers can have a disproportionate effect on the results and can lead to incorrect conclusions. In such cases, it may be necessary to remove the outliers or use a non-parametric test.\n",
    "\n",
    "In summary, violating these assumptions can affect the validity of ANOVA results, and it is important to carefully check for and address any violations before interpreting the results."
   ]
  },
  {
   "cell_type": "markdown",
   "id": "5ed011f3",
   "metadata": {},
   "source": [
    "# Q2. What are the three types of ANOVA, and in what situations would each be used?\n",
    "\n",
    "# Ans. :\n",
    "\n",
    "There are three types of ANOVA:\n",
    "\n",
    "__1. One-way ANOVA:__ A one-way ANOVA is used when there is only one independent variable or factor with two or more levels. The aim is to compare the means of the dependent variable across different levels of the independent variable. For example, a one-way ANOVA can be used to compare the mean height of plants grown in three different soil types (sand, loam, clay).\n",
    "\n",
    "__2. Repeated measures ANOVA:__ A repeated measures ANOVA is used when the same group of participants is measured under different conditions or at different time points. The aim is to compare the means of the dependent variable across different levels of the within-subjects factor (i.e., the different conditions or time points). For example, a repeated measures ANOVA can be used to compare the mean scores of participants on a cognitive task measured before and after a treatment intervention.\n",
    "\n",
    "__3. Factorial ANOVA:__ A factorial ANOVA is used when there are two or more independent variables or factors, each with two or more levels. The aim is to examine the main effects of each independent variable and their interaction effect on the dependent variable. For example, a factorial ANOVA can be used to examine the main effects of gender (male vs female) and age group (young vs old) on a measure of physical fitness, as well as the interaction effect between these two independent variables.\n",
    "\n",
    "In summary, the choice of ANOVA type depends on the research design and the nature of the independent variables. One-way ANOVA is used for one independent variable, repeated measures ANOVA is used for within-subjects designs, and factorial ANOVA is used for designs with two or more independent variables."
   ]
  },
  {
   "cell_type": "markdown",
   "id": "201ee803",
   "metadata": {},
   "source": [
    "# Q3. What is the partitioning of variance in ANOVA, and why is it important to understand this concept?\n",
    "\n",
    "# Ans. :\n",
    "\n",
    "__Partitioning of variance in ANOVA refers to__ the process of dividing the total variance of the dependent variable into different sources of variation that can be attributed to different factors or sources. This is important because it allows us to identify which factors are contributing significantly to the variation in the dependent variable and which are not.\n",
    "\n",
    "__The total variance in the dependent variable can be divided into two components:__ the within-group variance and the between-group variance. The within-group variance represents the variation in the dependent variable that is due to random or uncontrolled factors within each group, while the between-group variance represents the variation that is due to the differences between the group means.\n",
    "\n",
    "The partitioning of variance is carried out using the F-test in ANOVA, which compares the ratio of the between-group variance to the within-group variance. If the between-group variance is significantly larger than the within-group variance, it suggests that the means of the groups are significantly different from each other, and we can reject the null hypothesis of no group differences.\n",
    "\n",
    "__Understanding the partitioning of variance is important because__ it helps us to determine which factors are most important in explaining the variation in the dependent variable. This information can be used to guide further research, develop interventions, or make decisions based on the results of the study. It also helps us to identify potential confounding variables that may need to be controlled for in future studies."
   ]
  },
  {
   "cell_type": "markdown",
   "id": "14c627c0",
   "metadata": {},
   "source": [
    "# Q4. How would you calculate the total sum of squares (SST), explained sum of squares (SSE), and residual sum of squares (SSR) in a one-way ANOVA using Python?"
   ]
  },
  {
   "cell_type": "code",
   "execution_count": 2,
   "id": "0dd6120d",
   "metadata": {},
   "outputs": [
    {
     "name": "stdout",
     "output_type": "stream",
     "text": [
      "SST: 64.16666666666669\n",
      "SSE: 18.333333333333336\n",
      "SSR: 45.83333333333335\n"
     ]
    }
   ],
   "source": [
    "import pandas as pd\n",
    "import numpy as np\n",
    "import statsmodels.api as sm\n",
    "from statsmodels.formula.api import ols\n",
    "\n",
    "# Create a pandas dataframe with a dependent variable and an independent variable\n",
    "dependent_variable = np.array([2, 4, 5, 3, 6, 7, 8, 9, 10, 11])\n",
    "group_variable = np.array(['A', 'A', 'A', 'B', 'B', 'B', 'C', 'C', 'C', 'C'])\n",
    "df = pd.DataFrame({'dependent_variable': dependent_variable, 'group_variable': group_variable})\n",
    "\n",
    "# Define the ANOVA model\n",
    "model = ols('dependent_variable ~ group_variable', data=df).fit()\n",
    "\n",
    "# Calculate the total sum of squares (SST)\n",
    "sst = sm.stats.anova_lm(model, typ=1)['sum_sq'][0]\n",
    "\n",
    "# Calculate the explained sum of squares (SSE)\n",
    "sse = sm.stats.anova_lm(model, typ=1)['sum_sq'][1]\n",
    "\n",
    "# Calculate the residual sum of squares (SSR)\n",
    "ssr = sst - sse\n",
    "\n",
    "print('SST:', sst)\n",
    "print('SSE:', sse)\n",
    "print('SSR:', ssr)"
   ]
  },
  {
   "cell_type": "markdown",
   "id": "4964bf33",
   "metadata": {},
   "source": [
    "# Q5. In a two-way ANOVA, how would you calculate the main effects and interaction effects using Python?"
   ]
  },
  {
   "cell_type": "code",
   "execution_count": 4,
   "id": "05a37287",
   "metadata": {},
   "outputs": [
    {
     "name": "stdout",
     "output_type": "stream",
     "text": [
      "Main effect of independent variable 1: 47.999999999999886\n",
      "Main effect of independent variable 2: 7.888609052210118e-31\n",
      "Interaction effect: 192.0\n"
     ]
    }
   ],
   "source": [
    "import pandas as pd\n",
    "import numpy as np\n",
    "import statsmodels.api as sm\n",
    "from statsmodels.formula.api import ols\n",
    "\n",
    "# Create a pandas dataframe with two independent variables and a dependent variable\n",
    "independent_variable_1 = np.array(['A', 'B', 'C', 'A', 'B', 'C', 'A', 'B', 'C', 'A', 'B', 'C'])\n",
    "independent_variable_2 = np.array(['X', 'X', 'X', 'Y', 'Y', 'Y', 'X', 'X', 'X', 'Y', 'Y', 'Y'])\n",
    "dependent_variable = np.array([10, 12, 8, 14, 16, 12, 18, 20, 16, 22, 24, 20])\n",
    "df = pd.DataFrame({'independent_variable_1': independent_variable_1, 'independent_variable_2': independent_variable_2, 'dependent_variable': dependent_variable})\n",
    "\n",
    "\n",
    "# Define the ANOVA model with interaction\n",
    "model_interaction = ols('dependent_variable ~ independent_variable_1 * independent_variable_2', data=df).fit()\n",
    "\n",
    "# Calculate the main effects and interaction effects\n",
    "main_effect_1 = sm.stats.anova_lm(model_interaction, typ=1)['sum_sq'][1]\n",
    "main_effect_2 = sm.stats.anova_lm(model_interaction, typ=1)['sum_sq'][2]\n",
    "interaction_effect = sm.stats.anova_lm(model_interaction, typ=1)['sum_sq'][3]\n",
    "\n",
    "print('Main effect of independent variable 1:', main_effect_1)\n",
    "print('Main effect of independent variable 2:', main_effect_2)\n",
    "print('Interaction effect:', interaction_effect)"
   ]
  },
  {
   "cell_type": "markdown",
   "id": "43b4a09d",
   "metadata": {},
   "source": [
    "# Q6. Suppose you conducted a one-way ANOVA and obtained an F-statistic of 5.23 and a p-value of 0.02. What can you conclude about the differences between the groups, and how would you interpret these results?\n",
    "\n",
    "# Ans. :\n",
    "\n",
    "In a one-way ANOVA, the F-statistic tests the null hypothesis that the means of all the groups are equal, against the alternative hypothesis that at least one group mean is different from the others. The p-value associated with the F-statistic represents the probability of obtaining a test statistic as extreme or more extreme than the observed F-statistic, assuming that the null hypothesis is true.\n",
    "\n",
    "In this case, the obtained F-statistic is 5.23 and the p-value is 0.02. Since the p-value is less than the commonly used significance level of 0.05, we can reject the null hypothesis and conclude that at least one group mean is different from the others.\n",
    "\n",
    "We can interpret this result as evidence of statistically significant differences between the groups on the dependent variable. However, we cannot determine which group(s) is/are different from the others based solely on the ANOVA results. To determine which groups are different, we need to conduct post-hoc tests (e.g., Tukey's HSD, Bonferroni correction, etc.) or use other statistical techniques (e.g., contrasts).\n",
    "\n",
    "It's important to note that statistical significance does not necessarily imply practical significance or importance. The size of the differences between the groups should also be considered when interpreting the results."
   ]
  },
  {
   "cell_type": "markdown",
   "id": "d0c4a32c",
   "metadata": {},
   "source": [
    "# Q7. In a repeated measures ANOVA, how would you handle missing data, and what are the potential consequences of using different methods to handle missing data?\n",
    "\n",
    "# Ans. :\n",
    "\n",
    "In a repeated measures ANOVA, missing data can be handled in several ways:\n",
    "\n",
    "__1. Pairwise deletion:__ This involves excluding any participants with missing data on one or more variables. This approach can result in a loss of statistical power and potentially biased results if the missing data is not missing completely at random.\n",
    "\n",
    "__2. Listwise deletion:__ This involves excluding any participants with missing data on any variable in the analysis. This approach can also result in a loss of statistical power and potentially biased results if the missing data is not missing completely at random.\n",
    "\n",
    "__3. Imputation:__ This involves filling in missing data with plausible values based on the observed data. This approach can improve statistical power, reduce bias, and maintain sample size. There are several methods for imputing missing data, including mean imputation, regression imputation, and multiple imputation.\n",
    "\n",
    "The potential consequences of using different methods to handle missing data include:\n",
    "\n",
    "__1. Bias:__ If the missing data is not missing completely at random, then the results of the analysis may be biased. For example, if participants with missing data are systematically different from those without missing data, then excluding them from the analysis or imputing missing data based on the observed data may result in biased estimates.\n",
    "\n",
    "__2. Loss of power:__ Excluding participants with missing data or imputing missing data based on the observed data can result in a loss of statistical power, which can make it more difficult to detect significant effects.\n",
    "\n",
    "__3. Inaccurate estimates:__ Different imputation methods can result in different estimates of the effect sizes, standard errors, and p-values. Using inappropriate or invalid imputation methods can result in inaccurate estimates.\n",
    "\n",
    "In general, it is recommended to use multiple imputation or other appropriate imputation methods to handle missing data in repeated measures ANOVA to reduce the potential biases and increase statistical power."
   ]
  },
  {
   "cell_type": "markdown",
   "id": "cfd9e530",
   "metadata": {},
   "source": [
    "# Q8. What are some common post-hoc tests used after ANOVA, and when would you use each one? Provide an example of a situation where a post-hoc test might be necessary.\n",
    "\n",
    "# Ans. :\n",
    "\n",
    "Post-hoc tests are used in ANOVA to compare specific pairs of means after a statistically significant result has been found. There are several common post-hoc tests used after ANOVA, including:\n",
    "\n",
    "__1. Tukey's Honestly Significant Difference (HSD) test:__ This test is used to compare all possible pairs of means in a dataset. It is considered to be the most conservative post-hoc test and is commonly used when sample sizes are equal.\n",
    "\n",
    "__2. Bonferroni correction:__ This test is used to adjust the p-values of the individual pairwise comparisons to control for multiple comparisons. It is more conservative than Tukey's HSD test, but it is commonly used when sample sizes are unequal.\n",
    "\n",
    "__3. Scheffe's test:__ This test is used when the number of pairwise comparisons is large, and it controls the overall Type I error rate. It is more conservative than Tukey's HSD and Bonferroni correction, but it is more powerful when the number of comparisons is high.\n",
    "\n",
    "An example of a situation where a post-hoc test might be necessary is if a one-way ANOVA showed that there was a statistically significant difference in the mean scores on an exam across different levels of study habits. A post-hoc test could be used to determine which specific groups differed significantly from each other. For instance, if we found that the ANOVA F-test was significant and showed a difference in the mean exam scores across the groups with different study habits, we could conduct Tukey's HSD test to see which groups differ significantly from each other. This would allow us to make more specific conclusions about the differences between the groups, rather than simply concluding that there is a significant difference between them."
   ]
  },
  {
   "cell_type": "markdown",
   "id": "6e57a368",
   "metadata": {},
   "source": [
    "# Q9. A researcher wants to compare the mean weight loss of three diets: A, B, and C. They collect data from 50 participants who were randomly assigned to one of the diets. Conduct a one-way ANOVA using Python to determine if there are any significant differences between the mean weight loss of the three diets. Report the F-statistic and p-value, and interpret the results."
   ]
  },
  {
   "cell_type": "code",
   "execution_count": 12,
   "id": "7fbf498f",
   "metadata": {},
   "outputs": [
    {
     "name": "stdout",
     "output_type": "stream",
     "text": [
      "F-statistic: 57.06379442059458\n",
      "p-value: 4.561906121578302e-19\n",
      "We reject the null hypothesis.\n",
      "Conclusion : The mean weight loss is different for at least one diet.\n"
     ]
    }
   ],
   "source": [
    "import numpy as np\n",
    "from scipy.stats import f_oneway\n",
    "\n",
    "# Generate simulated data assuming normal distribution with same variance\n",
    "np.random.seed(1)\n",
    "diet_A = np.random.normal(5, 1, 50)\n",
    "diet_B = np.random.normal(4, 1, 50)\n",
    "diet_C = np.random.normal(3, 1, 50)\n",
    "\n",
    "# Perform one-way ANOVA\n",
    "f_statistic, p_value = f_oneway(diet_A, diet_B, diet_C)\n",
    "\n",
    "# Set significance level\n",
    "alpha = 0.05\n",
    "\n",
    "# Null hypothesis: The mean weight loss is the same for all three diets.\n",
    "# Alternative hypothesis: The mean weight loss is different for at least one diet.\n",
    "null_hypothesis = \"The mean weight loss is the same for all three diets.\"\n",
    "alternate_hypothesis = \"The mean weight loss is different for at least one diet.\"\n",
    "\n",
    "print(\"F-statistic:\", f_statistic)\n",
    "print(\"p-value:\", p_value)\n",
    "if p_value < alpha:\n",
    "    print(\"We reject the null hypothesis.\")\n",
    "    print(f\"Conclusion : {alternate_hypothesis}\")\n",
    "else:\n",
    "    print(\"We fail to reject the null hypothesis.\")\n",
    "    print(f\"Conclusion : {null_hypothesis}\")"
   ]
  },
  {
   "cell_type": "markdown",
   "id": "78c3c65b",
   "metadata": {},
   "source": [
    "### Performing Tukey's test for mean difference:"
   ]
  },
  {
   "cell_type": "code",
   "execution_count": 13,
   "id": "6ad104d8",
   "metadata": {},
   "outputs": [
    {
     "name": "stdout",
     "output_type": "stream",
     "text": [
      "Multiple Comparison of Means - Tukey HSD, FWER=0.05\n",
      "===================================================\n",
      "group1 group2 meandiff p-adj  lower   upper  reject\n",
      "---------------------------------------------------\n",
      "     A      B  -0.8278   0.0 -1.2477 -0.4079   True\n",
      "     A      C  -1.8898   0.0 -2.3097 -1.4699   True\n",
      "     B      C   -1.062   0.0 -1.4819 -0.6421   True\n",
      "---------------------------------------------------\n"
     ]
    }
   ],
   "source": [
    "import numpy as np\n",
    "from statsmodels.stats.multicomp import pairwise_tukeyhsd\n",
    "\n",
    "#create DataFrame to hold data\n",
    "df = pd.DataFrame({'weight_loss': list(diet_A) + list(diet_B) + list(diet_C),\n",
    "                   'group': np.repeat(['A', 'B', 'C'], repeats=50)})\n",
    "\n",
    "# perform Tukey's test\n",
    "tukey = pairwise_tukeyhsd(endog=df['weight_loss'],\n",
    "                          groups=df['group'],\n",
    "                          alpha=0.05)\n",
    "\n",
    "# Print results\n",
    "print(tukey)"
   ]
  },
  {
   "cell_type": "markdown",
   "id": "2ccc8d05",
   "metadata": {},
   "source": [
    "### Above interpretation means all three means are different reject value is True for all of 3\n",
    "1. Mean Difference between diet_A and diet_B is -0.8278\n",
    "2. Mean Difference between diet_A and diet_C is -1.8898\n",
    "3. Mean Difference between diet_A and diet_C is -1.062\n",
    "\n",
    "### Maximum mean difference is in between diet_A and diet_C\n",
    "### All mean differences with diet_A are negative\n",
    "### diet_A has shown highest weight loss compared to diet_B and diet_C"
   ]
  },
  {
   "cell_type": "markdown",
   "id": "925c7912",
   "metadata": {},
   "source": [
    "# Q10. A company wants to know if there are any significant differences in the average time it takes to complete a task using three different software programs: Program A, Program B, and Program C. They randomly assign 30 employees to one of the programs and record the time it takes each employee to complete the task. Conduct a two-way ANOVA using Python to determine if there are any main effects or interaction effects between the software programs and employee experience level (novice vs. experienced). Report the F-statistics and p-values, and interpret the results.\n",
    "\n",
    "# Ans. :\n",
    "\n",
    "### Assuming Significance level of 0.05"
   ]
  },
  {
   "cell_type": "code",
   "execution_count": 14,
   "id": "13cf6b2b",
   "metadata": {},
   "outputs": [
    {
     "name": "stdout",
     "output_type": "stream",
     "text": [
      "Simulated Data example :\n",
      "  Software Experience       Time\n",
      "0        A     Novice  12.828739\n",
      "1        A     Novice  16.994691\n",
      "2        A     Novice  15.565957\n",
      "3        A     Novice  11.987411\n",
      "4        A     Novice  13.842799\n",
      "\n",
      "======================================================================================\n",
      "\n",
      "                             df      sum_sq     mean_sq          F  \\\n",
      "C(Software)                 2.0  204.881181  102.440590  18.135666   \n",
      "C(Experience)               1.0  165.079097  165.079097  29.224933   \n",
      "C(Software):C(Experience)   2.0   16.370883    8.185442   1.449117   \n",
      "Residual                   56.0  316.319953    5.648571        NaN   \n",
      "\n",
      "                                 PR(>F)  \n",
      "C(Software)                8.460472e-07  \n",
      "C(Experience)              1.375177e-06  \n",
      "C(Software):C(Experience)  2.434451e-01  \n",
      "Residual                            NaN  \n",
      "\n",
      "\n",
      "Conclusion: There is a significant main effect of software.\n",
      "Conclusion: There is a significant main effect of experience.\n",
      "Conclusion: There is no significant interaction effect between software and experience.\n"
     ]
    }
   ],
   "source": [
    "import pandas as pd\n",
    "import statsmodels.api as sm\n",
    "from statsmodels.formula.api import ols\n",
    "\n",
    "# Setting random seed for reproducibility\n",
    "np.random.seed(123)\n",
    "\n",
    "# Generating 2 random time samples for novice and expert\n",
    "time_novice = np.random.normal(loc=15, scale=2, size=30)\n",
    "time_expert = np.random.normal(loc=10, scale=2, size=30)\n",
    "\n",
    "# Generate simulated data\n",
    "data = pd.DataFrame({\n",
    "    'Software': ['A']*20 + ['B']*20 + ['C']*20,\n",
    "    'Experience': ['Novice']*30 + ['Experienced']*30,\n",
    "    'Time': list(time_novice)+list(time_expert)\n",
    "})\n",
    "\n",
    "# Print the simulated data head \n",
    "print('Simulated Data example :')\n",
    "print(data.head())\n",
    "\n",
    "print('\\n======================================================================================\\n')\n",
    "\n",
    "# Fit the two-way ANOVA model\n",
    "model = ols('Time ~ C(Software) + C(Experience) + C(Software):C(Experience)', data=data).fit()\n",
    "table = sm.stats.anova_lm(model, typ=1)\n",
    "\n",
    "# Set significance level\n",
    "alpha = 0.05\n",
    "\n",
    "# Main effects and interaction effect\n",
    "print(table)\n",
    "print('\\n')\n",
    "if table['PR(>F)'][0] < alpha:\n",
    "    print(\"Conclusion: There is a significant main effect of software.\")\n",
    "else:\n",
    "    print(\"Conclusion: There is no significant main effect of software.\")\n",
    "\n",
    "if table['PR(>F)'][1] < alpha:\n",
    "    print(\"Conclusion: There is a significant main effect of experience.\")\n",
    "else:\n",
    "    print(\"Conclusion: There is no significant main effect of experience.\")\n",
    "\n",
    "if table['PR(>F)'][2] < alpha:\n",
    "    print(\"Conclusion: There is a significant interaction effect between software and experience.\")\n",
    "else:\n",
    "    print(\"Conclusion: There is no significant interaction effect between software and experience.\")"
   ]
  },
  {
   "cell_type": "markdown",
   "id": "d80bd6e4",
   "metadata": {},
   "source": [
    "## Here are the interpretations of the three conclusions:\n",
    "1. \"There is a significant main effect of software\": This means that the software programs used by the employees have a significant impact on the outcome variable (e.g., completion time), independent of the experience level of the employees. This suggests that the choice of software program is an important factor that should be considered carefully when completing this task.\n",
    "\n",
    "2. \"There is a significant main effect of experience\": This means that the experience level of the employees has a significant impact on the outcome variable, independent of the software program used. Specifically, this suggests that experienced employees may complete the task faster than novices, or vice versa. This finding can be helpful for the company to identify the best employees for a given task and to provide appropriate training for new employees.\n",
    "\n",
    "3. \"There is NO significant interaction effect between software and experience\": This means that the effect of software on the outcome variable does not depend on the experience level of the employees, and vice versa. This suggests that the software programs perform similarly for both novices and experienced employees. This finding can be helpful for the company to decide which software program to use, as they do not need to consider the experience level of the employees when making the choice."
   ]
  },
  {
   "cell_type": "markdown",
   "id": "308f72d4",
   "metadata": {},
   "source": [
    "# Q11 : An educational researcher is interested in whether a new teaching method improves student test scores. They randomly assign 100 students to either the control group (traditional teaching method) or the experimental group (new teaching method) and administer a test at the end of the semester. Conduct a two-sample t-test using Python to determine if there are any significant differences in test scores between the two groups. If the results are significant, follow up with a post-hoc test to determine which group(s) differ significantly from each other.\n",
    "\n",
    "# Ans. :\n",
    "\n",
    "### 1. Two sample t-test , alpha=0.05"
   ]
  },
  {
   "cell_type": "code",
   "execution_count": 16,
   "id": "b2d3931f",
   "metadata": {},
   "outputs": [
    {
     "name": "stdout",
     "output_type": "stream",
     "text": [
      "Simulated data for test_scores:\n",
      "   test_score    group\n",
      "0   70.079124  control\n",
      "1   70.780965  control\n",
      "2   68.814563  control\n",
      "3   69.387097  control\n",
      "4   66.185102  control\n",
      "\n",
      "===============================\n",
      "\n",
      "t-statistic: -28.5074, p-value: 3.096206271894725e-49\n",
      "\n",
      "\n",
      "Reject the Null Hypothesis\n",
      "Conclusion : There is SIGNIFICANT difference in test scores between the control and experimental groups.\n"
     ]
    }
   ],
   "source": [
    "import pandas as pd\n",
    "import numpy as np\n",
    "from scipy.stats import ttest_ind\n",
    "\n",
    "# Setting numpy random seed\n",
    "np.random.seed(45)\n",
    "\n",
    "# Generating normal test scores with same variance for both control groups\n",
    "test_score_control = np.random.normal(loc=70, scale=3, size=50)\n",
    "test_score_experimental = np.random.normal(loc=85, scale=3, size=50)\n",
    "\n",
    "# Creating the dataframe\n",
    "df = pd.DataFrame({'test_score':list(test_score_control)+list(test_score_experimental),\n",
    "                   'group':['control']*50 + ['experimental']*50})\n",
    "\n",
    "# printing the sample dataframe\n",
    "print('Simulated data for test_scores:')\n",
    "print(df.head())\n",
    "print('\\n===============================\\n')\n",
    "\n",
    "null_hypothesis = \"There is NO difference in test scores between the control and experimental groups.\"\n",
    "alt_hypothesis = \"There is SIGNIFICANT difference in test scores between the control and experimental groups.\"\n",
    "\n",
    "# Conduct the two-sample t-test\n",
    "control_scores = df[df['group'] == 'control']['test_score']\n",
    "experimental_scores = df[df['group'] == 'experimental']['test_score']\n",
    "t_stat, p_val = ttest_ind(control_scores, experimental_scores, equal_var=True)\n",
    "print(f\"t-statistic: {t_stat:.4f}, p-value: {p_val}\")\n",
    "print('\\n')\n",
    "\n",
    "# Significance value \n",
    "alpha = 0.05\n",
    "if p_val<alpha:\n",
    "    print('Reject the Null Hypothesis')\n",
    "    print(f'Conclusion : {alt_hypothesis}')\n",
    "else:\n",
    "    print('Failed to reject the Null Hypothesis')\n",
    "    print(f'Conclusion : {null_hypothesis}')"
   ]
  },
  {
   "cell_type": "markdown",
   "id": "eb6bc036",
   "metadata": {},
   "source": [
    "### 2. Tukey's HSD test"
   ]
  },
  {
   "cell_type": "code",
   "execution_count": 17,
   "id": "d6a9f908",
   "metadata": {},
   "outputs": [
    {
     "name": "stdout",
     "output_type": "stream",
     "text": [
      "   Multiple Comparison of Means - Tukey HSD, FWER=0.05    \n",
      "==========================================================\n",
      " group1    group2    meandiff p-adj  lower   upper  reject\n",
      "----------------------------------------------------------\n",
      "control experimental  15.8829   0.0 14.7773 16.9886   True\n",
      "----------------------------------------------------------\n"
     ]
    }
   ],
   "source": [
    "from statsmodels.stats.multicomp import pairwise_tukeyhsd\n",
    "\n",
    "# Conduct post-hoc Tukey's test\n",
    "tukey_results = pairwise_tukeyhsd(df['test_score'], df['group'], 0.05)\n",
    "print(tukey_results)"
   ]
  },
  {
   "cell_type": "markdown",
   "id": "566172f7",
   "metadata": {},
   "source": [
    "### Tukey's Results Interpretation\n",
    "1. Reject = True suggests that there is significant difference in both control and Experimental groups also p-adj is almost 0.\n",
    "\n",
    "2. Experimental group has increased the performance of test scores of students by mean of 15.88 approximately\n",
    "\n",
    "3. Mean score improved by Experimental method is (14.78,16.99) with 95% confidence level"
   ]
  },
  {
   "cell_type": "markdown",
   "id": "48af9805",
   "metadata": {},
   "source": [
    "# Q12 : A researcher wants to know if there are any significant differences in the average daily sales of three retail stores: Store A, Store B, and Store C. They randomly select 30 days and record the sales for each store on those days. Conduct a repeated measures ANOVA using Python to determine if there are any significant differences in sales between the three stores. If the results are significant, follow up with a posthoc test to determine which store(s) differ significantly from each other.\n",
    "\n",
    "# Ans. :\n",
    "\n",
    "### Assumed signifincance value of 0.05"
   ]
  },
  {
   "cell_type": "code",
   "execution_count": 18,
   "id": "7267c63d",
   "metadata": {},
   "outputs": [
    {
     "name": "stdout",
     "output_type": "stream",
     "text": [
      "Generated data top 5 rows : \n",
      "   Day    Store        Sales\n",
      "0    0  Store A   933.187150\n",
      "1    1  Store A   950.179048\n",
      "2    2  Store A  1061.857582\n",
      "3    3  Store A  1056.869225\n",
      "4    4  Store A  1135.050948\n",
      "\n",
      "================================================\n",
      "\n",
      "               Anova\n",
      "===================================\n",
      "      F Value Num DF  Den DF Pr > F\n",
      "-----------------------------------\n",
      "Store 51.5040 2.0000 58.0000 0.0000\n",
      "===================================\n",
      "\n",
      "Reject the Null Hypothesis : Atleast one of the group has different mean.\n",
      "\n",
      "Tukey HSD posthoc test:\n",
      "    Multiple Comparison of Means - Tukey HSD, FWER=0.05    \n",
      "===========================================================\n",
      " group1  group2  meandiff p-adj    lower     upper   reject\n",
      "-----------------------------------------------------------\n",
      "Store A Store B   21.2439 0.6945   -40.881   83.3688  False\n",
      "Store A Store C -207.8078    0.0 -269.9328 -145.6829   True\n",
      "Store B Store C -229.0517    0.0 -291.1766 -166.9268   True\n",
      "-----------------------------------------------------------\n"
     ]
    }
   ],
   "source": [
    "import numpy as np\n",
    "import pandas as pd\n",
    "from statsmodels.stats.anova import AnovaRM\n",
    "from statsmodels.stats.multicomp import pairwise_tukeyhsd\n",
    "\n",
    "# set random seed for reproducibility\n",
    "np.random.seed(456)\n",
    "\n",
    "# generate sales data for Store A, B, and C\n",
    "sales_a = np.random.normal(loc=1000, scale=100, size=(30,))\n",
    "sales_b = np.random.normal(loc=1050, scale=150, size=(30,))\n",
    "sales_c = np.random.normal(loc=800, scale=80, size=(30,))\n",
    "\n",
    "# create a DataFrame to store the sales data\n",
    "sales_df = pd.DataFrame({'Store A': sales_a, 'Store B': sales_b, 'Store C': sales_c})\n",
    "\n",
    "# reshape the DataFrame for repeated measures ANOVA\n",
    "sales_melted = pd.melt(sales_df.reset_index(), id_vars=['index'], value_vars=['Store A', 'Store B', 'Store C'])\n",
    "sales_melted.columns = ['Day', 'Store', 'Sales']\n",
    "\n",
    "# Printing top 5 rows of generated data\n",
    "print('Generated data top 5 rows : ')\n",
    "print(sales_melted.head())\n",
    "\n",
    "print('\\n================================================\\n')\n",
    "\n",
    "# perform repeated measures ANOVA\n",
    "rm_anova = AnovaRM(sales_melted, 'Sales', 'Day', within=['Store'])\n",
    "rm_results = rm_anova.fit()\n",
    "print(rm_results)\n",
    "\n",
    "# check if null hypothesis should be rejected based on p-value\n",
    "if rm_results.anova_table['Pr > F'][0] < 0.05:\n",
    "    # perform post-hoc Tukey test\n",
    "    print('Reject the Null Hypothesis : Atleast one of the group has different mean.\\n')\n",
    "    print('Tukey HSD posthoc test:')\n",
    "    tukey_results = pairwise_tukeyhsd(sales_melted['Sales'], sales_melted['Store'])\n",
    "    print(tukey_results)\n",
    "else:\n",
    "    print('NO significant difference between groups.')"
   ]
  },
  {
   "cell_type": "markdown",
   "id": "d062063d",
   "metadata": {},
   "source": [
    "### Interpretation of above\n",
    "1. In Repeated Measure ANOVA test we got p_value (Pr>F) as 0.0000 which is less than 0.05 .Reject the Null Hypothesis .Which means atleast one of the mean of groups is different.\n",
    "\n",
    "2. In Tukey's Post Hoc Test we get following interpretation :\n",
    "\n",
    "   * No significant difference between sales of Store A and Store B. Store B earns 21.24 dollars more than store A(becuse reject=False for this)\n",
    "   * Significant difference between sales of Store A and Store C . Store C has approx 207.8 dollars lesser compared to store A (reject=True)\n",
    "   * Siginficant difference between sales of Store B and Store C . Store C has approx 229.0 dollars lesser compared to store B (reject=True)"
   ]
  }
 ],
 "metadata": {
  "kernelspec": {
   "display_name": "Python 3 (ipykernel)",
   "language": "python",
   "name": "python3"
  },
  "language_info": {
   "codemirror_mode": {
    "name": "ipython",
    "version": 3
   },
   "file_extension": ".py",
   "mimetype": "text/x-python",
   "name": "python",
   "nbconvert_exporter": "python",
   "pygments_lexer": "ipython3",
   "version": "3.9.7"
  }
 },
 "nbformat": 4,
 "nbformat_minor": 5
}
