{
 "cells": [
  {
   "cell_type": "markdown",
   "id": "20bc19ea",
   "metadata": {},
   "source": [
    "# Q1. What is the Probability density function?\n",
    "\n",
    "__Ans. :__<br>\n",
    "\n",
    "In probability theory, the __probability density function (PDF)__ is a mathematical function that describes the probability distribution of a random variable.\n",
    "\n",
    "The PDF is a function that takes a value of a random variable as its input and returns the probability of that value occurring. The PDF is defined as the derivative of the cumulative distribution function (CDF) of the random variable."
   ]
  },
  {
   "cell_type": "markdown",
   "id": "2e82e492",
   "metadata": {},
   "source": [
    "# Q2. What are the types of Probability distribution?\n",
    "\n",
    "__Ans. :__<br>\n",
    "\n",
    "There are several types of probability distributions, including:\n",
    "\n",
    "__1. Bernoulli distribution: ___\n",
    "a discrete distribution that models the probability of a binary outcome, such as success or failure.\n",
    "\n",
    "__2. Binomial distribution:__ a discrete distribution that models the probability of a specific number of successes in a fixed number of independent trials.\n",
    "\n",
    "__3. Poisson distribution:__ a discrete distribution that models the probability of a certain number of events occurring within a fixed interval of time or space.\n",
    "\n",
    "__4. Normal distribution:__ a continuous distribution that is symmetric and bell-shaped and is commonly used to model real-world phenomena, such as measurements of physical properties.\n",
    "\n",
    "__5. Uniform distribution:__ a continuous distribution that models a situation where all outcomes are equally likely over a fixed range.\n",
    "\n",
    "__6. Exponential distribution:__ a continuous distribution that models the time between events in a Poisson process, such as the time between arrivals of customers at a store.\n",
    "\n",
    "__7. Gamma distribution:__ a continuous distribution that generalizes the exponential distribution and can be used to model waiting times, survival times, and other continuous positive variables."
   ]
  },
  {
   "cell_type": "markdown",
   "id": "3c972d5f",
   "metadata": {},
   "source": [
    "# Q3. Write a Python function to calculate the probability density function of a normal distribution with given mean and standard deviation at a given point."
   ]
  },
  {
   "cell_type": "code",
   "execution_count": 1,
   "id": "92aceb72",
   "metadata": {},
   "outputs": [],
   "source": [
    "import math\n",
    "\n",
    "def normal_pdf(x, mu, sigma):\n",
    "    \"\"\"Calculates the PDF of a normal distribution with given mean and standard deviation at a given point.\"\"\"\n",
    "    return math.exp(-(x - mu)**2 / (2 * sigma**2)) / (math.sqrt(2 * math.pi) * sigma)"
   ]
  },
  {
   "cell_type": "markdown",
   "id": "84a3ee83",
   "metadata": {},
   "source": [
    "The function takes three arguments:\n",
    "\n",
    "__x:__ the point at which to evaluate the PDF<br>\n",
    "__mu:__ the mean of the normal distribution<br>\n",
    "__sigma:__ the standard deviation of the normal distribution"
   ]
  },
  {
   "cell_type": "code",
   "execution_count": 2,
   "id": "4a5cc3ca",
   "metadata": {},
   "outputs": [
    {
     "name": "stdout",
     "output_type": "stream",
     "text": [
      "0.24197072451914337\n"
     ]
    }
   ],
   "source": [
    "pdf = normal_pdf(1, 0, 1)\n",
    "print(pdf)"
   ]
  },
  {
   "cell_type": "markdown",
   "id": "a7ff3555",
   "metadata": {},
   "source": [
    "# Q4. What are the properties of Binomial distribution? Give two examples of events where binomial distribution can be applied.\n",
    "\n",
    "__Ans. :__<br>\n",
    "\n",
    "#### The binomial distribution has the following properties:\n",
    "\n",
    "1. It is a discrete probability distribution that describes the number of successes in a fixed number of independent trials with a constant probability of success.\n",
    "\n",
    "2. It has two parameters: the number of trials (n) and the probability of success in each trial (p).\n",
    "\n",
    "3. The mean of the binomial distribution is np, and the variance is np(1-p).\n",
    "\n",
    "4. The shape of the distribution is determined by the value of p. If p is close to 0 or 1, the distribution will be skewed, but if p is close to 0.5, the distribution will be roughly symmetric.\n",
    "\n",
    "#### Two examples of events where the binomial distribution can be applied are:\n",
    "\n",
    "__1. Flipping a coin:__ If you flip a fair coin (with a probability of heads or tails being 0.5) n times, the number of heads you get follows a binomial distribution.\n",
    "\n",
    "__2. Testing a drug:__ Suppose a new drug has a 70% success rate in treating a certain condition. If you test the drug on n patients, the number of patients who are successfully treated follows a binomial distribution."
   ]
  },
  {
   "cell_type": "markdown",
   "id": "417c41e3",
   "metadata": {},
   "source": [
    "# Q5. Generate a random sample of size 1000 from a binomial distribution with probability of success 0.4 and plot a histogram of the results using matplotlib."
   ]
  },
  {
   "cell_type": "code",
   "execution_count": 3,
   "id": "7ac412d3",
   "metadata": {},
   "outputs": [
    {
     "data": {
      "image/png": "[encoded data removed]",
      "text/plain": [
       "<Figure size 432x288 with 1 Axes>"
      ]
     },
     "metadata": {
      "needs_background": "light"
     },
     "output_type": "display_data"
    }
   ],
   "source": [
    "import numpy as np\n",
    "import matplotlib.pyplot as plt\n",
    "\n",
    "# Set the parameters of the binomial distribution\n",
    "n = 10\n",
    "p = 0.4\n",
    "\n",
    "# Generate a random sample of size 1000 from the binomial distribution\n",
    "sample = np.random.binomial(n, p, 1000)\n",
    "\n",
    "# Plot a histogram of the sample using Matplotlib\n",
    "plt.hist(sample, bins=range(n+2), align='left', rwidth=0.8)\n",
    "plt.xticks(range(n+1))\n",
    "plt.xlabel('Number of successes')\n",
    "plt.ylabel('Frequency')\n",
    "plt.title('Binomial Distribution (n={}, p={})'.format(n, p))\n",
    "plt.show()"
   ]
  },
  {
   "cell_type": "markdown",
   "id": "a06d3db3",
   "metadata": {},
   "source": [
    "# Q6. Write a Python function to calculate the cumulative distribution function of a Poisson distribution with given mean at a given point."
   ]
  },
  {
   "cell_type": "code",
   "execution_count": 4,
   "id": "80e25225",
   "metadata": {},
   "outputs": [],
   "source": [
    "import math\n",
    "\n",
    "def poisson_cdf(x, mu):\n",
    "    \"\"\"Calculates the CDF of a Poisson distribution with given mean at a given point.\"\"\"\n",
    "    cdf = 0\n",
    "    for i in range(x + 1):\n",
    "        cdf += math.exp(-mu) * mu**i / math.factorial(i)\n",
    "    return cdf"
   ]
  },
  {
   "cell_type": "markdown",
   "id": "f434e451",
   "metadata": {},
   "source": [
    "The function takes two arguments:\n",
    "\n",
    "__x:__ the point at which to evaluate the CDF<br>\n",
    "__mu:__ the mean of the Poisson distribution<br>\n",
    "\n",
    "The function uses the formula for the Poisson CDF, which is the sum of the probabilities of getting x or fewer successes in a Poisson distribution with mean mu. The formula is:\n",
    "\n",
    "#### CDF(x) = e^(-mu) * (mu^0/0! + mu^1/1! + ... + mu^x/x!)\n",
    "\n",
    "The function calculates this sum using a loop that adds up the terms of the series. It returns the value of the CDF at the given point.\n",
    "\n",
    "To use this function, you can call it with the appropriate arguments. For example, to calculate the CDF of a Poisson distribution with mean 3 at the point x=5, you can call the function like this:"
   ]
  },
  {
   "cell_type": "code",
   "execution_count": 5,
   "id": "b9bd8e90",
   "metadata": {},
   "outputs": [
    {
     "name": "stdout",
     "output_type": "stream",
     "text": [
      "0.9160820579686966\n"
     ]
    }
   ],
   "source": [
    "cdf = poisson_cdf(5, 3)\n",
    "print(cdf)"
   ]
  },
  {
   "cell_type": "markdown",
   "id": "464a00f6",
   "metadata": {},
   "source": [
    "# Q7. How Binomial distribution different from Poisson distribution?\n",
    "\n",
    "__Ans. :__<br>\n",
    "    \n",
    "__Binomial distribution__ and __Poisson distribution__ are two common discrete probability distributions that are often used to model the occurrence of events. Here are the main differences between the two distributions:\n",
    "\n",
    "__1. Definition:__ The binomial distribution models the number of successes in a fixed number of independent trials with a constant probability of success. The Poisson distribution models the number of occurrences of an event in a fixed interval of time or space.\n",
    "\n",
    "__2. Number of trials:__ The binomial distribution requires a fixed number of trials, while the Poisson distribution does not.\n",
    "\n",
    "__3. Probability of success:__ In the binomial distribution, the probability of success is constant across all trials. In the Poisson distribution, the probability of occurrence of an event is constant across time or space.\n",
    "\n",
    "__4. Mean and variance:__ In the binomial distribution, the mean and variance are both np, where n is the number of trials and p is the probability of success. In the Poisson distribution, the mean and variance are both equal to λ, which is the rate of occurrence of the event.\n",
    "\n",
    "__5. Shape:__ The shape of the binomial distribution depends on the value of p and can range from symmetric to highly skewed. The Poisson distribution is often skewed to the right and has a longer tail than the binomial distribution."
   ]
  },
  {
   "cell_type": "markdown",
   "id": "2a8ad0ff",
   "metadata": {},
   "source": [
    "# Q8. Generate a random sample of size 1000 from a Poisson distribution with mean 5 and calculate the sample mean and variance."
   ]
  },
  {
   "cell_type": "code",
   "execution_count": 6,
   "id": "14239c28",
   "metadata": {},
   "outputs": [
    {
     "name": "stdout",
     "output_type": "stream",
     "text": [
      "Sample mean: 4.955\n",
      "Sample variance: 5.130975\n"
     ]
    }
   ],
   "source": [
    "import numpy as np\n",
    "\n",
    "# Generate a random sample of size 1000 from a Poisson distribution with mean 5\n",
    "sample = np.random.poisson(5, size=1000)\n",
    "\n",
    "# Calculate the sample mean and variance\n",
    "sample_mean = np.mean(sample)\n",
    "sample_var = np.var(sample)\n",
    "\n",
    "# Print the sample mean and variance\n",
    "print(\"Sample mean:\", sample_mean)\n",
    "print(\"Sample variance:\", sample_var)"
   ]
  },
  {
   "cell_type": "markdown",
   "id": "f1950be5",
   "metadata": {},
   "source": [
    "# Q9. How mean and variance are related in Binomial distribution and Poisson distribution?\n",
    "\n",
    "__Ans. :__<br>\n",
    "\n",
    "In a __binomial distribution__ with parameters n and p, the mean is given by np and the variance is given by np(1-p). As the probability of success p approaches zero and the number of trials n approaches infinity while keeping np constant, the binomial distribution converges to the Poisson distribution with parameter λ = np.\n",
    "\n",
    "In a __Poisson distribution__ with parameter λ, the mean and variance are both equal to λ. Therefore, in the Poisson distribution, the variance is equal to the square of the mean.\n",
    "\n",
    "So, in summary, the mean and variance are directly related in both binomial and Poisson distributions, but the nature of the relationship is different for each distribution. In the binomial distribution, the variance is a function of both the number of trials and the probability of success, while in the Poisson distribution, the variance is equal to the mean."
   ]
  },
  {
   "cell_type": "markdown",
   "id": "9decead8",
   "metadata": {},
   "source": [
    "# Q10. In normal distribution with respect to mean position, where does the least frequent data appear?\n",
    "\n",
    "__Ans. :__<br>\n",
    "\n",
    "In a normal distribution, the data are symmetrically distributed around the mean. The least frequent data appear in the tails of the distribution, which are the areas farthest from the mean. The tails of the normal distribution extend to infinity in both directions, but the probability of observing data far from the mean decreases rapidly as you move away from the center of the distribution. The area under the curve of the normal distribution represents the total probability of observing any value in the distribution, and the majority of the data fall within a few standard deviations of the mean."
   ]
  }
 ],
 "metadata": {
  "kernelspec": {
   "display_name": "Python 3 (ipykernel)",
   "language": "python",
   "name": "python3"
  },
  "language_info": {
   "codemirror_mode": {
    "name": "ipython",
    "version": 3
   },
   "file_extension": ".py",
   "mimetype": "text/x-python",
   "name": "python",
   "nbconvert_exporter": "python",
   "pygments_lexer": "ipython3",
   "version": "3.9.7"
  }
 },
 "nbformat": 4,
 "nbformat_minor": 5
}
